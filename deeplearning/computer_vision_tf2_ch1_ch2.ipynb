{
  "nbformat": 4,
  "nbformat_minor": 0,
  "metadata": {
    "colab": {
      "name": "computer_vision_tf2_ch1_ch2.ipynb",
      "provenance": [],
      "collapsed_sections": [],
      "authorship_tag": "ABX9TyODIlc+UWbL8KB6gP4oKfbI",
      "include_colab_link": true
    },
    "kernelspec": {
      "name": "python3",
      "display_name": "Python 3"
    },
    "language_info": {
      "name": "python"
    },
    "accelerator": "GPU",
    "gpuClass": "standard"
  },
  "cells": [
    {
      "cell_type": "markdown",
      "metadata": {
        "id": "view-in-github",
        "colab_type": "text"
      },
      "source": [
        "<a href=\"https://colab.research.google.com/github/jkworldchampion/Military_CodingStudy/blob/main/deeplearning/computer_vision_tf2_ch1_ch2.ipynb\" target=\"_parent\"><img src=\"https://colab.research.google.com/assets/colab-badge.svg\" alt=\"Open In Colab\"/></a>"
      ]
    },
    {
      "cell_type": "code",
      "execution_count": 1,
      "metadata": {
        "colab": {
          "base_uri": "https://localhost:8080/"
        },
        "id": "yXnJHswasSkk",
        "outputId": "dc4cb908-de06-4d96-b198-50cd9374cbd9"
      },
      "outputs": [
        {
          "output_type": "stream",
          "name": "stdout",
          "text": [
            "Mounted at /content/drive\n"
          ]
        }
      ],
      "source": [
        "# 드라이브 마운트\n",
        "from google.colab import drive\n",
        "drive.mount('/content/drive')"
      ]
    },
    {
      "cell_type": "markdown",
      "source": [
        "# NoteBook 0 : 첫 환경설정하기"
      ],
      "metadata": {
        "id": "N6O23fXEtSvC"
      }
    },
    {
      "cell_type": "code",
      "source": [
        "cd /content/drive/MyDrive/Colab_Notebooks/Machine_learning/book/computer_vision_tf2"
      ],
      "metadata": {
        "colab": {
          "base_uri": "https://localhost:8080/"
        },
        "id": "QqDr4yHJsjdY",
        "outputId": "4a0bf20c-cf32-4983-95ed-06def0e25042"
      },
      "execution_count": 2,
      "outputs": [
        {
          "output_type": "stream",
          "name": "stdout",
          "text": [
            "/content/drive/MyDrive/Colab_Notebooks/Machine_learning/book/computer_vision_tf2\n"
          ]
        }
      ]
    },
    {
      "cell_type": "code",
      "source": [
        "!git clone \"https://github.com/wikibook/dl-vision.git\"  # git clone을 통해 Drive안에 파일들 불러오기"
      ],
      "metadata": {
        "colab": {
          "base_uri": "https://localhost:8080/"
        },
        "id": "hHiBt1XXsrnQ",
        "outputId": "168593a0-d1ef-47d4-b4b6-9fe4f4d7fca0"
      },
      "execution_count": 6,
      "outputs": [
        {
          "output_type": "stream",
          "name": "stdout",
          "text": [
            "Cloning into 'dl-vision'...\n",
            "remote: Enumerating objects: 336, done.\u001b[K\n",
            "remote: Counting objects: 100% (78/78), done.\u001b[K\n",
            "remote: Compressing objects: 100% (45/45), done.\u001b[K\n",
            "remote: Total 336 (delta 37), reused 72 (delta 33), pack-reused 258\u001b[K\n",
            "Receiving objects: 100% (336/336), 45.67 MiB | 14.03 MiB/s, done.\n",
            "Resolving deltas: 100% (63/63), done.\n",
            "Checking out files: 100% (208/208), done.\n"
          ]
        }
      ]
    },
    {
      "cell_type": "code",
      "source": [
        "# 가볍게 계산해보기\n",
        "import tensorflow as tf\n",
        "\n",
        "x1 = tf.constant([[0, 1], [2, 3]])\n",
        "x2 = tf.constant(10)\n",
        "x = x1*x2\n",
        "x"
      ],
      "metadata": {
        "colab": {
          "base_uri": "https://localhost:8080/"
        },
        "id": "-tehrZ2YsuGH",
        "outputId": "d0604e8f-a29c-478c-9fe9-5802aa01583c"
      },
      "execution_count": 3,
      "outputs": [
        {
          "output_type": "execute_result",
          "data": {
            "text/plain": [
              "<tf.Tensor: shape=(2, 2), dtype=int32, numpy=\n",
              "array([[ 0, 10],\n",
              "       [20, 30]], dtype=int32)>"
            ]
          },
          "metadata": {},
          "execution_count": 3
        }
      ]
    },
    {
      "cell_type": "markdown",
      "source": [
        "# NoteBook 1 : 신경망을 처음부터 구성하고 훈련시키기"
      ],
      "metadata": {
        "id": "k8J913veuqNf"
      }
    },
    {
      "cell_type": "code",
      "source": [
        "# 이부분은 basic_deeplearning에서 지겹도록 했으니 넘어간다."
      ],
      "metadata": {
        "id": "gyATAAytwwSf"
      },
      "execution_count": 15,
      "outputs": []
    },
    {
      "cell_type": "markdown",
      "source": [
        "# Notebook 2 : 케라스로 구현한 MNIST문제"
      ],
      "metadata": {
        "id": "9JplPgTPw04_"
      }
    },
    {
      "cell_type": "code",
      "source": [
        "import tensorflow as tf"
      ],
      "metadata": {
        "id": "wNVl4TmAw0RA"
      },
      "execution_count": 4,
      "outputs": []
    },
    {
      "cell_type": "markdown",
      "source": [
        "### *잠시 확인하는 eager execution(조급한 실행)과 lazy execution(느긋한 실행)"
      ],
      "metadata": {
        "id": "lgDr-wHq15qK"
      }
    },
    {
      "cell_type": "code",
      "source": [
        "a = tf.constant([1, 2, 3])\n",
        "b = tf.constant([0, 0, 1])\n",
        "c = tf.add(a, b)\n",
        "print(c)  # tensorflow2에서는 조급한 실행이 default이기 때문에 바로 결과값이 나온다."
      ],
      "metadata": {
        "colab": {
          "base_uri": "https://localhost:8080/"
        },
        "id": "QzmfOCqO1i9a",
        "outputId": "f0b27844-b777-41f1-a226-d90024cffcaf"
      },
      "execution_count": 14,
      "outputs": [
        {
          "output_type": "stream",
          "name": "stdout",
          "text": [
            "tf.Tensor([1 2 4], shape=(3,), dtype=int32)\n"
          ]
        }
      ]
    },
    {
      "cell_type": "code",
      "source": [
        "@tf.function\n",
        "def compute(a, b, c):\n",
        "    d = a * b + c \n",
        "    e = a * b * c\n",
        "    return d, e"
      ],
      "metadata": {
        "id": "4_wEyu4z2fbz"
      },
      "execution_count": 17,
      "outputs": []
    },
    {
      "cell_type": "markdown",
      "source": [
        "위와같은 경우 a * b가 두번 연산될 수 있지만, 텐서플로에서 제공하는 오토그래프 @tf.function을 사용하면 자동으로 최적화를 해준다."
      ],
      "metadata": {
        "id": "G5YpN72Z3RNG"
      }
    },
    {
      "cell_type": "markdown",
      "source": [
        "## Input data"
      ],
      "metadata": {
        "id": "4zIKioraxVeB"
      }
    },
    {
      "cell_type": "code",
      "source": [
        "num_classes = 10\n",
        "img_rows, img_cols = 28, 28\n",
        "num_channels = 1\n",
        "input_shape = (img_rows, img_cols, num_channels)\n",
        "\n",
        "(x_train, y_train),(x_test, y_test) = tf.keras.datasets.mnist.load_data()  # 데이터 불러오기\n",
        "x_train, x_test = x_train / 255.0, x_test / 255.0   # 데이터를 0~1사이값으로 변환"
      ],
      "metadata": {
        "id": "kmIeDSfPw-Lb"
      },
      "execution_count": 19,
      "outputs": []
    },
    {
      "cell_type": "markdown",
      "source": [
        "## Buliding a simple model"
      ],
      "metadata": {
        "id": "76uwWF8UxYaJ"
      }
    },
    {
      "cell_type": "code",
      "source": [
        "model = tf.keras.models.Sequential()\n",
        "model.add(tf.keras.layers.Flatten())\n",
        "model.add(tf.keras.layers.Dense(128, activation='relu'))\n",
        "model.add(tf.keras.layers.Dense(num_classes, activation='softmax'))"
      ],
      "metadata": {
        "id": "bKTY2nIoxTnY"
      },
      "execution_count": 20,
      "outputs": []
    },
    {
      "cell_type": "code",
      "source": [
        "model.summary()"
      ],
      "metadata": {
        "colab": {
          "base_uri": "https://localhost:8080/",
          "height": 339
        },
        "id": "pVWb3Iqn1qQp",
        "outputId": "35f406a8-21b2-437f-f74f-c424c15267ae"
      },
      "execution_count": 21,
      "outputs": [
        {
          "output_type": "error",
          "ename": "ValueError",
          "evalue": "ignored",
          "traceback": [
            "\u001b[0;31m---------------------------------------------------------------------------\u001b[0m",
            "\u001b[0;31mValueError\u001b[0m                                Traceback (most recent call last)",
            "\u001b[0;32m<ipython-input-21-5f15418b3570>\u001b[0m in \u001b[0;36m<module>\u001b[0;34m()\u001b[0m\n\u001b[0;32m----> 1\u001b[0;31m \u001b[0mmodel\u001b[0m\u001b[0;34m.\u001b[0m\u001b[0msummary\u001b[0m\u001b[0;34m(\u001b[0m\u001b[0;34m)\u001b[0m\u001b[0;34m\u001b[0m\u001b[0;34m\u001b[0m\u001b[0m\n\u001b[0m",
            "\u001b[0;32m/usr/local/lib/python3.7/dist-packages/keras/engine/training.py\u001b[0m in \u001b[0;36msummary\u001b[0;34m(self, line_length, positions, print_fn, expand_nested, show_trainable)\u001b[0m\n\u001b[1;32m   2774\u001b[0m     \u001b[0;32mif\u001b[0m \u001b[0;32mnot\u001b[0m \u001b[0mself\u001b[0m\u001b[0;34m.\u001b[0m\u001b[0mbuilt\u001b[0m\u001b[0;34m:\u001b[0m\u001b[0;34m\u001b[0m\u001b[0;34m\u001b[0m\u001b[0m\n\u001b[1;32m   2775\u001b[0m       raise ValueError(\n\u001b[0;32m-> 2776\u001b[0;31m           \u001b[0;34m'This model has not yet been built. '\u001b[0m\u001b[0;34m\u001b[0m\u001b[0;34m\u001b[0m\u001b[0m\n\u001b[0m\u001b[1;32m   2777\u001b[0m           \u001b[0;34m'Build the model first by calling `build()` or by calling '\u001b[0m\u001b[0;34m\u001b[0m\u001b[0;34m\u001b[0m\u001b[0m\n\u001b[1;32m   2778\u001b[0m           'the model on a batch of data.')\n",
            "\u001b[0;31mValueError\u001b[0m: This model has not yet been built. Build the model first by calling `build()` or by calling the model on a batch of data."
          ]
        }
      ]
    },
    {
      "cell_type": "markdown",
      "source": [
        "## Launch training"
      ],
      "metadata": {
        "id": "1SUq5FL1x74g"
      }
    },
    {
      "cell_type": "code",
      "source": [
        "model.compile(optimizer='sgd',\n",
        "              loss='sparse_categorical_crossentropy',\n",
        "              metrics=['accuracy'])\n",
        "callbacks = [tf.keras.callbacks.TensorBoard('./keras')]\n",
        "model.fit(x_train, y_train, epochs=25, verbose=1, validation_data=(x_test, y_test), callbacks=callbacks)"
      ],
      "metadata": {
        "colab": {
          "base_uri": "https://localhost:8080/"
        },
        "id": "rcSzqksmx7ag",
        "outputId": "ab6b3d43-3460-4b59-e22c-63482f9a91d6"
      },
      "execution_count": 7,
      "outputs": [
        {
          "output_type": "stream",
          "name": "stdout",
          "text": [
            "Epoch 1/25\n",
            "1875/1875 [==============================] - 8s 3ms/step - loss: 0.6408 - accuracy: 0.8375 - val_loss: 0.3530 - val_accuracy: 0.9044\n",
            "Epoch 2/25\n",
            "1875/1875 [==============================] - 4s 2ms/step - loss: 0.3350 - accuracy: 0.9073 - val_loss: 0.2894 - val_accuracy: 0.9189\n",
            "Epoch 3/25\n",
            "1875/1875 [==============================] - 4s 2ms/step - loss: 0.2872 - accuracy: 0.9197 - val_loss: 0.2642 - val_accuracy: 0.9255\n",
            "Epoch 4/25\n",
            "1875/1875 [==============================] - 4s 2ms/step - loss: 0.2572 - accuracy: 0.9282 - val_loss: 0.2377 - val_accuracy: 0.9332\n",
            "Epoch 5/25\n",
            "1875/1875 [==============================] - 4s 2ms/step - loss: 0.2341 - accuracy: 0.9345 - val_loss: 0.2168 - val_accuracy: 0.9391\n",
            "Epoch 6/25\n",
            "1875/1875 [==============================] - 5s 2ms/step - loss: 0.2153 - accuracy: 0.9401 - val_loss: 0.2027 - val_accuracy: 0.9425\n",
            "Epoch 7/25\n",
            "1875/1875 [==============================] - 4s 2ms/step - loss: 0.1994 - accuracy: 0.9440 - val_loss: 0.1902 - val_accuracy: 0.9461\n",
            "Epoch 8/25\n",
            "1875/1875 [==============================] - 4s 2ms/step - loss: 0.1861 - accuracy: 0.9484 - val_loss: 0.1774 - val_accuracy: 0.9503\n",
            "Epoch 9/25\n",
            "1875/1875 [==============================] - 4s 2ms/step - loss: 0.1747 - accuracy: 0.9511 - val_loss: 0.1678 - val_accuracy: 0.9516\n",
            "Epoch 10/25\n",
            "1875/1875 [==============================] - 4s 2ms/step - loss: 0.1646 - accuracy: 0.9538 - val_loss: 0.1600 - val_accuracy: 0.9539\n",
            "Epoch 11/25\n",
            "1875/1875 [==============================] - 4s 2ms/step - loss: 0.1558 - accuracy: 0.9565 - val_loss: 0.1531 - val_accuracy: 0.9558\n",
            "Epoch 12/25\n",
            "1875/1875 [==============================] - 4s 2ms/step - loss: 0.1480 - accuracy: 0.9590 - val_loss: 0.1463 - val_accuracy: 0.9584\n",
            "Epoch 13/25\n",
            "1875/1875 [==============================] - 4s 2ms/step - loss: 0.1407 - accuracy: 0.9601 - val_loss: 0.1393 - val_accuracy: 0.9599\n",
            "Epoch 14/25\n",
            "1875/1875 [==============================] - 4s 2ms/step - loss: 0.1345 - accuracy: 0.9622 - val_loss: 0.1349 - val_accuracy: 0.9618\n",
            "Epoch 15/25\n",
            "1875/1875 [==============================] - 5s 2ms/step - loss: 0.1284 - accuracy: 0.9639 - val_loss: 0.1309 - val_accuracy: 0.9629\n",
            "Epoch 16/25\n",
            "1875/1875 [==============================] - 4s 2ms/step - loss: 0.1231 - accuracy: 0.9658 - val_loss: 0.1249 - val_accuracy: 0.9653\n",
            "Epoch 17/25\n",
            "1875/1875 [==============================] - 4s 2ms/step - loss: 0.1181 - accuracy: 0.9673 - val_loss: 0.1227 - val_accuracy: 0.9660\n",
            "Epoch 18/25\n",
            "1875/1875 [==============================] - 4s 2ms/step - loss: 0.1135 - accuracy: 0.9689 - val_loss: 0.1197 - val_accuracy: 0.9664\n",
            "Epoch 19/25\n",
            "1875/1875 [==============================] - 4s 2ms/step - loss: 0.1094 - accuracy: 0.9701 - val_loss: 0.1158 - val_accuracy: 0.9681\n",
            "Epoch 20/25\n",
            "1875/1875 [==============================] - 4s 2ms/step - loss: 0.1053 - accuracy: 0.9712 - val_loss: 0.1132 - val_accuracy: 0.9677\n",
            "Epoch 21/25\n",
            "1875/1875 [==============================] - 4s 2ms/step - loss: 0.1016 - accuracy: 0.9718 - val_loss: 0.1108 - val_accuracy: 0.9689\n",
            "Epoch 22/25\n",
            "1875/1875 [==============================] - 4s 2ms/step - loss: 0.0981 - accuracy: 0.9732 - val_loss: 0.1070 - val_accuracy: 0.9702\n",
            "Epoch 23/25\n",
            "1875/1875 [==============================] - 4s 2ms/step - loss: 0.0949 - accuracy: 0.9739 - val_loss: 0.1063 - val_accuracy: 0.9701\n",
            "Epoch 24/25\n",
            "1875/1875 [==============================] - 4s 2ms/step - loss: 0.0917 - accuracy: 0.9747 - val_loss: 0.1029 - val_accuracy: 0.9708\n",
            "Epoch 25/25\n",
            "1875/1875 [==============================] - 4s 2ms/step - loss: 0.0890 - accuracy: 0.9757 - val_loss: 0.1016 - val_accuracy: 0.9709\n"
          ]
        },
        {
          "output_type": "execute_result",
          "data": {
            "text/plain": [
              "<keras.callbacks.History at 0x7f77e435edd0>"
            ]
          },
          "metadata": {},
          "execution_count": 7
        }
      ]
    },
    {
      "cell_type": "code",
      "source": [
        "estimator = tf.keras.estimator.model_to_estimator(model, model_dir='./estimator_dir')"
      ],
      "metadata": {
        "colab": {
          "base_uri": "https://localhost:8080/"
        },
        "id": "TVxOzAwCyoEA",
        "outputId": "ff7377ee-64bc-4b21-8a2c-167b040c0c28"
      },
      "execution_count": 8,
      "outputs": [
        {
          "output_type": "stream",
          "name": "stdout",
          "text": [
            "INFO:tensorflow:Using default config.\n",
            "INFO:tensorflow:Using the Keras model provided.\n"
          ]
        },
        {
          "output_type": "stream",
          "name": "stderr",
          "text": [
            "/usr/local/lib/python3.7/dist-packages/keras/backend.py:450: UserWarning: `tf.keras.backend.set_learning_phase` is deprecated and will be removed after 2020-10-11. To update it, simply pass a True/False value to the `training` argument of the `__call__` method of your layer or model.\n",
            "  warnings.warn('`tf.keras.backend.set_learning_phase` is deprecated and '\n"
          ]
        },
        {
          "output_type": "stream",
          "name": "stdout",
          "text": [
            "INFO:tensorflow:Using config: {'_model_dir': './estimator_dir', '_tf_random_seed': None, '_save_summary_steps': 100, '_save_checkpoints_steps': None, '_save_checkpoints_secs': 600, '_session_config': allow_soft_placement: true\n",
            "graph_options {\n",
            "  rewrite_options {\n",
            "    meta_optimizer_iterations: ONE\n",
            "  }\n",
            "}\n",
            ", '_keep_checkpoint_max': 5, '_keep_checkpoint_every_n_hours': 10000, '_log_step_count_steps': 100, '_train_distribute': None, '_device_fn': None, '_protocol': None, '_eval_distribute': None, '_experimental_distribute': None, '_experimental_max_worker_delay_secs': None, '_session_creation_timeout_secs': 7200, '_checkpoint_save_graph_def': True, '_service': None, '_cluster_spec': ClusterSpec({}), '_task_type': 'worker', '_task_id': 0, '_global_id_in_cluster': 0, '_master': '', '_evaluation_master': '', '_is_chief': True, '_num_ps_replicas': 0, '_num_worker_replicas': 1}\n"
          ]
        }
      ]
    },
    {
      "cell_type": "code",
      "source": [
        "BATCH_SIZE = 32\n",
        "def train_input_fn():\n",
        "    train_dataset = tf.data.Dataset.from_tensor_slices((x_train, y_train))\n",
        "    train_dataset = train_dataset.batch(BATCH_SIZE).repeat()\n",
        "    return train_dataset\n",
        "\n",
        "estimator.train(train_input_fn, steps=len(x_train)//BATCH_SIZE)"
      ],
      "metadata": {
        "colab": {
          "base_uri": "https://localhost:8080/"
        },
        "id": "Rqw1yl_71Ncg",
        "outputId": "44739f9e-12bd-4669-e30e-81cc49e5c158"
      },
      "execution_count": 10,
      "outputs": [
        {
          "output_type": "stream",
          "name": "stdout",
          "text": [
            "WARNING:tensorflow:From /usr/local/lib/python3.7/dist-packages/tensorflow/python/training/training_util.py:397: Variable.initialized_value (from tensorflow.python.ops.variables) is deprecated and will be removed in a future version.\n",
            "Instructions for updating:\n",
            "Use Variable.read_value. Variables in 2.X are initialized automatically both in eager and graph (inside tf.defun) contexts.\n",
            "INFO:tensorflow:Calling model_fn.\n"
          ]
        },
        {
          "output_type": "stream",
          "name": "stderr",
          "text": [
            "/usr/local/lib/python3.7/dist-packages/keras/backend.py:450: UserWarning: `tf.keras.backend.set_learning_phase` is deprecated and will be removed after 2020-10-11. To update it, simply pass a True/False value to the `training` argument of the `__call__` method of your layer or model.\n",
            "  warnings.warn('`tf.keras.backend.set_learning_phase` is deprecated and '\n"
          ]
        },
        {
          "output_type": "stream",
          "name": "stdout",
          "text": [
            "INFO:tensorflow:Done calling model_fn.\n",
            "INFO:tensorflow:Warm-starting with WarmStartSettings: WarmStartSettings(ckpt_to_initialize_from='./estimator_dir/keras/keras_model.ckpt', vars_to_warm_start='.*', var_name_to_vocab_info={}, var_name_to_prev_var_name={})\n",
            "INFO:tensorflow:Warm-starting from: ./estimator_dir/keras/keras_model.ckpt\n",
            "INFO:tensorflow:Warm-starting variables only in TRAINABLE_VARIABLES.\n",
            "INFO:tensorflow:Warm-started 4 variables.\n",
            "INFO:tensorflow:Create CheckpointSaverHook.\n",
            "INFO:tensorflow:Graph was finalized.\n",
            "INFO:tensorflow:Running local_init_op.\n",
            "INFO:tensorflow:Done running local_init_op.\n",
            "INFO:tensorflow:Calling checkpoint listeners before saving checkpoint 0...\n",
            "INFO:tensorflow:Saving checkpoints for 0 into ./estimator_dir/model.ckpt.\n",
            "INFO:tensorflow:Calling checkpoint listeners after saving checkpoint 0...\n",
            "INFO:tensorflow:loss = 0.048092213, step = 0\n",
            "INFO:tensorflow:global_step/sec: 497.464\n",
            "INFO:tensorflow:loss = 0.11297741, step = 100 (0.204 sec)\n",
            "WARNING:tensorflow:It seems that global step (tf.train.get_global_step) has not been increased. Current value (could be stable): 135 vs previous value: 135. You could increase the global step by passing tf.train.get_global_step() to Optimizer.apply_gradients or Optimizer.minimize.\n",
            "WARNING:tensorflow:It seems that global step (tf.train.get_global_step) has not been increased. Current value (could be stable): 150 vs previous value: 150. You could increase the global step by passing tf.train.get_global_step() to Optimizer.apply_gradients or Optimizer.minimize.\n",
            "WARNING:tensorflow:It seems that global step (tf.train.get_global_step) has not been increased. Current value (could be stable): 182 vs previous value: 182. You could increase the global step by passing tf.train.get_global_step() to Optimizer.apply_gradients or Optimizer.minimize.\n",
            "INFO:tensorflow:global_step/sec: 370.155\n",
            "INFO:tensorflow:loss = 0.10152893, step = 200 (0.270 sec)\n",
            "WARNING:tensorflow:It seems that global step (tf.train.get_global_step) has not been increased. Current value (could be stable): 243 vs previous value: 243. You could increase the global step by passing tf.train.get_global_step() to Optimizer.apply_gradients or Optimizer.minimize.\n",
            "WARNING:tensorflow:It seems that global step (tf.train.get_global_step) has not been increased. Current value (could be stable): 282 vs previous value: 282. You could increase the global step by passing tf.train.get_global_step() to Optimizer.apply_gradients or Optimizer.minimize.\n",
            "INFO:tensorflow:global_step/sec: 393.665\n",
            "INFO:tensorflow:loss = 0.021029029, step = 300 (0.250 sec)\n",
            "INFO:tensorflow:global_step/sec: 420.665\n",
            "INFO:tensorflow:loss = 0.084418535, step = 400 (0.240 sec)\n",
            "INFO:tensorflow:global_step/sec: 233.249\n",
            "INFO:tensorflow:loss = 0.15218426, step = 500 (0.429 sec)\n",
            "INFO:tensorflow:global_step/sec: 332.556\n",
            "INFO:tensorflow:loss = 0.04113964, step = 600 (0.300 sec)\n",
            "INFO:tensorflow:global_step/sec: 338.418\n",
            "INFO:tensorflow:loss = 0.032667227, step = 700 (0.296 sec)\n",
            "INFO:tensorflow:global_step/sec: 363.392\n",
            "INFO:tensorflow:loss = 0.044522166, step = 800 (0.277 sec)\n",
            "INFO:tensorflow:global_step/sec: 304.201\n",
            "INFO:tensorflow:loss = 0.041579515, step = 900 (0.329 sec)\n",
            "INFO:tensorflow:global_step/sec: 286.676\n",
            "INFO:tensorflow:loss = 0.1506494, step = 1000 (0.348 sec)\n",
            "INFO:tensorflow:global_step/sec: 374.545\n",
            "INFO:tensorflow:loss = 0.08621888, step = 1100 (0.266 sec)\n",
            "INFO:tensorflow:global_step/sec: 461.549\n",
            "INFO:tensorflow:loss = 0.08856051, step = 1200 (0.219 sec)\n",
            "INFO:tensorflow:global_step/sec: 333.297\n",
            "INFO:tensorflow:loss = 0.10393429, step = 1300 (0.297 sec)\n",
            "INFO:tensorflow:global_step/sec: 319.306\n",
            "INFO:tensorflow:loss = 0.053335745, step = 1400 (0.320 sec)\n",
            "INFO:tensorflow:global_step/sec: 351.142\n",
            "INFO:tensorflow:loss = 0.06486866, step = 1500 (0.284 sec)\n",
            "INFO:tensorflow:global_step/sec: 234.718\n",
            "INFO:tensorflow:loss = 0.054223634, step = 1600 (0.420 sec)\n",
            "INFO:tensorflow:global_step/sec: 313.774\n",
            "INFO:tensorflow:loss = 0.0146768205, step = 1700 (0.315 sec)\n",
            "INFO:tensorflow:global_step/sec: 313.243\n",
            "INFO:tensorflow:loss = 0.105746076, step = 1800 (0.322 sec)\n",
            "INFO:tensorflow:Calling checkpoint listeners before saving checkpoint 1875...\n",
            "INFO:tensorflow:Saving checkpoints for 1875 into ./estimator_dir/model.ckpt.\n",
            "INFO:tensorflow:Calling checkpoint listeners after saving checkpoint 1875...\n",
            "INFO:tensorflow:Loss for final step: 0.033247486.\n"
          ]
        },
        {
          "output_type": "execute_result",
          "data": {
            "text/plain": [
              "<tensorflow_estimator.python.estimator.estimator.EstimatorV2 at 0x7f77cf1712d0>"
            ]
          },
          "metadata": {},
          "execution_count": 10
        }
      ]
    },
    {
      "cell_type": "markdown",
      "source": [
        "## TensorBoard"
      ],
      "metadata": {
        "id": "NksbnTJp3k30"
      }
    },
    {
      "cell_type": "code",
      "source": [
        "model.compile(optimizer='sgd',\n",
        "              loss='sparse_categorical_crossentropy',\n",
        "              metrics=['accuracy'])\n",
        "callbacks = [tf.keras.callbacks.TensorBoard('./logs_keras')]\n",
        "model.fit(x_train, y_train, epochs=5, verbose=1, validation_data = (x_test, y_test), callbacks=callbacks)"
      ],
      "metadata": {
        "colab": {
          "base_uri": "https://localhost:8080/"
        },
        "id": "FUzvGCwl3ibU",
        "outputId": "72b02045-9d13-48d5-f46d-4bb4b83f98ff"
      },
      "execution_count": 22,
      "outputs": [
        {
          "output_type": "stream",
          "name": "stdout",
          "text": [
            "Epoch 1/5\n",
            "1875/1875 [==============================] - 6s 3ms/step - loss: 0.6371 - accuracy: 0.8403 - val_loss: 0.3546 - val_accuracy: 0.9057\n",
            "Epoch 2/5\n",
            "1875/1875 [==============================] - 4s 2ms/step - loss: 0.3350 - accuracy: 0.9061 - val_loss: 0.2923 - val_accuracy: 0.9172\n",
            "Epoch 3/5\n",
            "1875/1875 [==============================] - 5s 2ms/step - loss: 0.2863 - accuracy: 0.9193 - val_loss: 0.2583 - val_accuracy: 0.9254\n",
            "Epoch 4/5\n",
            "1875/1875 [==============================] - 5s 3ms/step - loss: 0.2557 - accuracy: 0.9273 - val_loss: 0.2356 - val_accuracy: 0.9311\n",
            "Epoch 5/5\n",
            "1875/1875 [==============================] - 5s 2ms/step - loss: 0.2331 - accuracy: 0.9345 - val_loss: 0.2173 - val_accuracy: 0.9384\n"
          ]
        },
        {
          "output_type": "execute_result",
          "data": {
            "text/plain": [
              "<keras.callbacks.History at 0x7f75e95d9110>"
            ]
          },
          "metadata": {},
          "execution_count": 22
        }
      ]
    },
    {
      "cell_type": "code",
      "source": [
        "! tensorboard --logdir ./logs_keras"
      ],
      "metadata": {
        "colab": {
          "base_uri": "https://localhost:8080/"
        },
        "id": "mFdg-yKA4uke",
        "outputId": "6c03400c-1cef-4c3f-a0db-4fef13a45337"
      },
      "execution_count": 25,
      "outputs": [
        {
          "output_type": "stream",
          "name": "stdout",
          "text": [
            "\n",
            "NOTE: Using experimental fast data loading logic. To disable, pass\n",
            "    \"--load_fast=false\" and report issues on GitHub. More details:\n",
            "    https://github.com/tensorflow/tensorboard/issues/4784\n",
            "\n",
            "Serving TensorBoard on localhost; to expose to the network, use a proxy or pass --bind_all\n",
            "TensorBoard 2.8.0 at http://localhost:6006/ (Press CTRL+C to quit)\n",
            "^C\n"
          ]
        }
      ]
    },
    {
      "cell_type": "code",
      "source": [
        ""
      ],
      "metadata": {
        "id": "j9FY0ndx5Taa"
      },
      "execution_count": null,
      "outputs": []
    }
  ]
}