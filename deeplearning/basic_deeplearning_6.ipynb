{
  "nbformat": 4,
  "nbformat_minor": 0,
  "metadata": {
    "colab": {
      "name": "basic_deeplearning_6.ipynb",
      "provenance": [],
      "collapsed_sections": [],
      "mount_file_id": "1-4uI_x0YIMtAX3HuDRkXnBHdqHKmDd-5",
      "authorship_tag": "ABX9TyMG4qnxxQGxyVukTUoZKbgE",
      "include_colab_link": true
    },
    "kernelspec": {
      "name": "python3",
      "display_name": "Python 3"
    },
    "language_info": {
      "name": "python"
    }
  },
  "cells": [
    {
      "cell_type": "markdown",
      "metadata": {
        "id": "view-in-github",
        "colab_type": "text"
      },
      "source": [
        "<a href=\"https://colab.research.google.com/github/jkworldchampion/Military_CodingStudy/blob/main/deeplearning/basic_deeplearning_6.ipynb\" target=\"_parent\"><img src=\"https://colab.research.google.com/assets/colab-badge.svg\" alt=\"Open In Colab\"/></a>"
      ]
    },
    {
      "cell_type": "code",
      "source": [
        "# 드라이브 마운트\n",
        "from google.colab import drive\n",
        "drive.mount('/content/drive')"
      ],
      "metadata": {
        "colab": {
          "base_uri": "https://localhost:8080/"
        },
        "id": "YtqMGg_D1CqM",
        "outputId": "eec891b0-0816-4e6d-ad9d-412c55c8fa7f"
      },
      "execution_count": null,
      "outputs": [
        {
          "output_type": "stream",
          "name": "stdout",
          "text": [
            "Mounted at /content/drive\n"
          ]
        }
      ]
    },
    {
      "cell_type": "code",
      "source": [
        "cd /content/drive/MyDrive/Colab_Notebooks/Machine_learning/book/basic_deeplearning/deep-learning-from-scratch"
      ],
      "metadata": {
        "colab": {
          "base_uri": "https://localhost:8080/"
        },
        "id": "pTyEDL6t1GOT",
        "outputId": "f2fc6e19-b722-470a-cc4f-3cd1e93a3b57"
      },
      "execution_count": null,
      "outputs": [
        {
          "output_type": "stream",
          "name": "stdout",
          "text": [
            "/content/drive/MyDrive/Colab_Notebooks/Machine_learning/book/basic_deeplearning/deep-learning-from-scratch\n"
          ]
        }
      ]
    },
    {
      "cell_type": "markdown",
      "source": [
        "# 학습 관련 기술들"
      ],
      "metadata": {
        "id": "d_-YY53c15-h"
      }
    },
    {
      "cell_type": "markdown",
      "source": [
        "이번 장에서는 신경망 학습의 핵심 개념들을 공부할 것이다. \n",
        "- 가중치 매개변수의 최적값을 탐색하는 최적화 방법\n",
        "- 가중치 매개변수 초기값, 하이퍼파라미터 설정 방법\n",
        "- 오버피칭 대응책인 가중치 감소와 드롭아웃 등의 정규화 방법   \n",
        "- 마지막으로 최근 많은 연구에서 사용하는 배치 정규화도 알아볼 것이다.  "
      ],
      "metadata": {
        "id": "nf4YTe9Bagp-"
      }
    },
    {
      "cell_type": "code",
      "source": [
        "# coding: utf-8\n",
        "import sys, os\n",
        "sys.path.append(os.pardir)  # 부모 디렉터리의 파일을 가져올 수 있도록 설정\n",
        "import numpy as np\n",
        "import matplotlib.pyplot as plt\n",
        "from collections import OrderedDict\n",
        "from common.optimizer import *\n",
        "\n",
        "\n",
        "def f(x, y):\n",
        "    return x**2 / 20.0 + y**2  # 적당한 함수 정의 \n",
        "\n",
        "\n",
        "def df(x, y):\n",
        "    return x / 10.0, 2.0*y   # f(x)의 도함수\n",
        "\n",
        "init_pos = (-7.0, 2.0)  # 시작점을 설정한다.\n",
        "params = {}  # 파라미터를 담을 공간\n",
        "params['x'], params['y'] = init_pos[0], init_pos[1]\n",
        "grads = {}  # 기울기를 담을 공간\n",
        "grads['x'], grads['y'] = 0, 0\n",
        "\n",
        "\n",
        "optimizers = OrderedDict()   # OrderedDict란 데이터의 순서를 보장해주는 딕셔너리\n",
        "optimizers[\"SGD\"] = SGD(lr=0.95)  \n",
        "optimizers[\"Momentum\"] = Momentum(lr=0.1)\n",
        "optimizers[\"AdaGrad\"] = AdaGrad(lr=1.5)\n",
        "optimizers[\"Adam\"] = Adam(lr=0.3)  # Adam은 하이퍼파라미터를 3개를 받는다. 학습률a, 일차모멘텀용 계수b, 이차모멘텀용 계수c\n",
        "\n",
        "idx = 1\n",
        "\n",
        "for key in optimizers:\n",
        "    # 옵티마이저별 초기화 진행\n",
        "    optimizer = optimizers[key]\n",
        "    x_history = []\n",
        "    y_history = []\n",
        "    params['x'], params['y'] = init_pos[0], init_pos[1]\n",
        "    \n",
        "    # \n",
        "    for i in range(30):\n",
        "        x_history.append(params['x'])\n",
        "        y_history.append(params['y'])\n",
        "        \n",
        "        grads['x'], grads['y'] = df(params['x'], params['y'])  # 각각의 기울기를 저장\n",
        "        optimizer.update(params, grads)  # params['x'], params['y'] 이동\n",
        "    \n",
        "\n",
        "    x = np.arange(-10, 10, 0.01)\n",
        "    y = np.arange(-5, 5, 0.01)\n",
        "    \n",
        "    X, Y = np.meshgrid(x, y)  \n",
        "    Z = f(X, Y)\n",
        "    \n",
        "    # 외곽선 단순화\n",
        "    mask = Z > 7  \n",
        "    Z[mask] = 0   # z값이 너무 큰 값은 지저분하기에 안보이게 설정\n",
        "    \n",
        "    # 그래프 그리기\n",
        "    plt.subplot(2, 2, idx)  # 그래프 4개를 그려야함\n",
        "    idx += 1 \n",
        "    plt.plot(x_history, y_history, 'o-', color=\"red\")\n",
        "    plt.contour(X, Y, Z)\n",
        "    plt.ylim(-10, 10)\n",
        "    plt.xlim(-10, 10)\n",
        "    plt.plot(0, 0, '+')\n",
        "    #colorbar()\n",
        "    #spring()\n",
        "    plt.title(key)\n",
        "    plt.xlabel(\"x\")\n",
        "    plt.ylabel(\"y\")\n",
        "    \n",
        "plt.show()"
      ],
      "metadata": {
        "colab": {
          "base_uri": "https://localhost:8080/",
          "height": 295
        },
        "id": "R1jYJ2to2PUn",
        "outputId": "5bb25f89-8b2d-41f8-fc74-4b9025a7277d"
      },
      "execution_count": null,
      "outputs": [
        {
          "output_type": "display_data",
          "data": {
            "text/plain": [
              "<Figure size 432x288 with 4 Axes>"
            ],
            "image/png": "[encoded data removed]"
          },
          "metadata": {
            "needs_background": "light"
          }
        }
      ]
    },
    {
      "cell_type": "markdown",
      "source": [
        "## MNIST 데이터셋으로 본 갱신 방법 비교"
      ],
      "metadata": {
        "id": "nKTlrS4Tivrj"
      }
    },
    {
      "cell_type": "code",
      "execution_count": null,
      "metadata": {
        "colab": {
          "base_uri": "https://localhost:8080/",
          "height": 1000
        },
        "id": "GpNNRBdUy3nR",
        "outputId": "13032f21-7fec-4cea-a6ae-7e2ec9079212"
      },
      "outputs": [
        {
          "output_type": "stream",
          "name": "stdout",
          "text": [
            "===========iteration:0===========\n",
            "SGD:2.2877884108431568\n",
            "Momentum:2.426587673399796\n",
            "AdaGrad:2.1937185932770342\n",
            "Adam:2.217363274316585\n",
            "===========iteration:100===========\n",
            "SGD:1.7141943033617528\n",
            "Momentum:0.42598569961955113\n",
            "AdaGrad:0.190963287311182\n",
            "Adam:0.2801221940520358\n",
            "===========iteration:200===========\n",
            "SGD:0.8146587536240953\n",
            "Momentum:0.2168015779029568\n",
            "AdaGrad:0.10046476218137337\n",
            "Adam:0.17271132233773692\n",
            "===========iteration:300===========\n",
            "SGD:0.5707219996352431\n",
            "Momentum:0.1559300481731097\n",
            "AdaGrad:0.05461784319110328\n",
            "Adam:0.08832845451768807\n",
            "===========iteration:400===========\n",
            "SGD:0.4960837155046462\n",
            "Momentum:0.13884910281520757\n",
            "AdaGrad:0.08727034899565399\n",
            "Adam:0.11794223247089018\n",
            "===========iteration:500===========\n",
            "SGD:0.44217948932476836\n",
            "Momentum:0.22120336727972223\n",
            "AdaGrad:0.05693019812760618\n",
            "Adam:0.14860301326666928\n",
            "===========iteration:600===========\n",
            "SGD:0.28559522455746844\n",
            "Momentum:0.06827312359512902\n",
            "AdaGrad:0.026558498509864626\n",
            "Adam:0.034073499246143224\n",
            "===========iteration:700===========\n",
            "SGD:0.31357966573136836\n",
            "Momentum:0.11030677927950153\n",
            "AdaGrad:0.03629530376821088\n",
            "Adam:0.07750239227534476\n",
            "===========iteration:800===========\n",
            "SGD:0.2710651232990958\n",
            "Momentum:0.0829080315514222\n",
            "AdaGrad:0.02508087194300923\n",
            "Adam:0.05989569686800234\n",
            "===========iteration:900===========\n",
            "SGD:0.34421322827131995\n",
            "Momentum:0.11343747650727429\n",
            "AdaGrad:0.0332925276575818\n",
            "Adam:0.02525544178750431\n",
            "===========iteration:1000===========\n",
            "SGD:0.23996414120738307\n",
            "Momentum:0.0950357340755597\n",
            "AdaGrad:0.03268956880648079\n",
            "Adam:0.08335288331144663\n",
            "===========iteration:1100===========\n",
            "SGD:0.27979704805898375\n",
            "Momentum:0.05978495397823136\n",
            "AdaGrad:0.02171636470748677\n",
            "Adam:0.029302014245522177\n",
            "===========iteration:1200===========\n",
            "SGD:0.35360546343374805\n",
            "Momentum:0.0949123227050352\n",
            "AdaGrad:0.04195542416510349\n",
            "Adam:0.051945532802190685\n",
            "===========iteration:1300===========\n",
            "SGD:0.2782048779956836\n",
            "Momentum:0.11067486092886969\n",
            "AdaGrad:0.057641964682583674\n",
            "Adam:0.05527915491394493\n",
            "===========iteration:1400===========\n",
            "SGD:0.3753881033266854\n",
            "Momentum:0.09826997258303356\n",
            "AdaGrad:0.021642237497768245\n",
            "Adam:0.03959478784003573\n",
            "===========iteration:1500===========\n",
            "SGD:0.284998890750056\n",
            "Momentum:0.0777346322751771\n",
            "AdaGrad:0.017678124276622645\n",
            "Adam:0.04029010332555433\n",
            "===========iteration:1600===========\n",
            "SGD:0.1737126686161785\n",
            "Momentum:0.07643756889305114\n",
            "AdaGrad:0.019349208843424743\n",
            "Adam:0.02828705936345341\n",
            "===========iteration:1700===========\n",
            "SGD:0.21731549119396953\n",
            "Momentum:0.06755991412334619\n",
            "AdaGrad:0.04446389922028045\n",
            "Adam:0.0444288280987399\n",
            "===========iteration:1800===========\n",
            "SGD:0.19755569252279367\n",
            "Momentum:0.0769818231038439\n",
            "AdaGrad:0.05547494054290636\n",
            "Adam:0.054257833649219045\n",
            "===========iteration:1900===========\n",
            "SGD:0.28222044650160943\n",
            "Momentum:0.11881742643594206\n",
            "AdaGrad:0.04795898559925962\n",
            "Adam:0.0818060332454369\n"
          ]
        },
        {
          "output_type": "display_data",
          "data": {
            "text/plain": [
              "<Figure size 432x288 with 1 Axes>"
            ],
            "image/png": "[encoded data removed]"
          },
          "metadata": {
            "needs_background": "light"
          }
        }
      ],
      "source": [
        "# coding: utf-8\n",
        "import os\n",
        "import sys\n",
        "sys.path.append(os.pardir)  # 부모 디렉터리의 파일을 가져올 수 있도록 설정\n",
        "import matplotlib.pyplot as plt\n",
        "import numpy as np\n",
        "from dataset.mnist import load_mnist\n",
        "from common.util import smooth_curve\n",
        "from common.multi_layer_net import MultiLayerNet\n",
        "from common.optimizer import *\n",
        "\n",
        "\n",
        "# 0. MNIST 데이터 읽기==========\n",
        "(x_train, t_train), (x_test, t_test) = load_mnist(normalize=True)\n",
        "\n",
        "train_size = x_train.shape[0]\n",
        "batch_size = 128\n",
        "max_iterations = 1000\n",
        "\n",
        "\n",
        "# 1. 실험용 설정==========\n",
        "optimizers = {}\n",
        "optimizers['SGD'] = SGD()\n",
        "optimizers['Momentum'] = Momentum()\n",
        "optimizers['AdaGrad'] = AdaGrad()\n",
        "optimizers['Adam'] = Adam()\n",
        "#optimizers['RMSprop'] = RMSprop()\n",
        "\n",
        "networks = {}\n",
        "train_loss = {}\n",
        "for key in optimizers.keys():\n",
        "    networks[key] = MultiLayerNet(\n",
        "        input_size=784, hidden_size_list=[100, 100, 100, 100],\n",
        "        output_size=10)\n",
        "    train_loss[key] = []    \n",
        "\n",
        "\n",
        "# 2. 훈련 시작==========\n",
        "for i in range(max_iterations):\n",
        "    batch_mask = np.random.choice(train_size, batch_size)\n",
        "    x_batch = x_train[batch_mask]\n",
        "    t_batch = t_train[batch_mask]\n",
        "    \n",
        "    for key in optimizers.keys():\n",
        "        grads = networks[key].gradient(x_batch, t_batch)\n",
        "        optimizers[key].update(networks[key].params, grads)\n",
        "    \n",
        "        loss = networks[key].loss(x_batch, t_batch)\n",
        "        train_loss[key].append(loss)\n",
        "    \n",
        "    if i % 100 == 0:\n",
        "        print( \"===========\" + \"iteration:\" + str(i) + \"===========\")\n",
        "        for key in optimizers.keys():\n",
        "            loss = networks[key].loss(x_batch, t_batch)\n",
        "            print(key + \":\" + str(loss))\n",
        "\n",
        "\n",
        "# 3. 그래프 그리기==========\n",
        "markers = {\"SGD\": \"o\", \"Momentum\": \"x\", \"AdaGrad\": \"s\", \"Adam\": \"D\"}\n",
        "x = np.arange(max_iterations)\n",
        "for key in optimizers.keys():\n",
        "    plt.plot(x, smooth_curve(train_loss[key]), marker=markers[key], markevery=100, label=key)\n",
        "plt.xlabel(\"iterations\")\n",
        "plt.ylabel(\"loss\")\n",
        "plt.ylim(0, 1)\n",
        "plt.legend()\n",
        "plt.show()"
      ]
    },
    {
      "cell_type": "code",
      "source": [
        "# coding: utf-8\n",
        "import numpy as np\n",
        "import matplotlib.pyplot as plt\n",
        "\n",
        "\n",
        "def sigmoid(x):\n",
        "    return 1 / (1 + np.exp(-x))\n",
        "\n",
        "\n",
        "def ReLU(x):\n",
        "    return np.maximum(0, x)\n",
        "\n",
        "\n",
        "def tanh(x):\n",
        "    return np.tanh(x)\n",
        "    \n",
        "input_data = np.random.randn(1000, 100)  # 1000개의 데이터\n",
        "node_num = 100  # 각 은닉층의 노드(뉴런) 수\n",
        "hidden_layer_size = 5  # 은닉층이 5개\n",
        "activations = {}  # 이곳에 활성화 결과를 저장\n",
        "\n",
        "x = input_data\n",
        "\n",
        "for i in range(hidden_layer_size):\n",
        "    if i != 0:\n",
        "        x = activations[i-1]\n",
        "\n",
        "    # 초깃값을 다양하게 바꿔가며 실험해보자！\n",
        "    # w = np.random.randn(node_num, node_num) * 1\n",
        "    # w = np.random.randn(node_num, node_num) * 0.01\n",
        "    # w = np.random.randn(node_num, node_num) * np.sqrt(1.0 / node_num)\n",
        "    w = np.random.randn(node_num, node_num) * np.sqrt(2.0 / node_num)\n",
        "\n",
        "\n",
        "    a = np.dot(x, w)\n",
        "\n",
        "\n",
        "    # 활성화 함수도 바꿔가며 실험해보자！\n",
        "    z = sigmoid(a)\n",
        "    # z = ReLU(a)\n",
        "    # z = tanh(a)\n",
        "\n",
        "    activations[i] = z\n",
        "\n",
        "# 히스토그램 그리기\n",
        "for i, a in activations.items():\n",
        "    plt.subplot(1, len(activations), i+1)\n",
        "    plt.title(str(i+1) + \"-layer\")\n",
        "    if i != 0: plt.yticks([], [])\n",
        "    # plt.xlim(0.1, 1)\n",
        "    # plt.ylim(0, 7000)\n",
        "    plt.hist(a.flatten(), 30, range=(0,1))\n",
        "plt.show()"
      ],
      "metadata": {
        "colab": {
          "base_uri": "https://localhost:8080/",
          "height": 281
        },
        "id": "1afpBPZl19kn",
        "outputId": "d576efad-985b-47f0-8328-ff1ecfbdcfc1"
      },
      "execution_count": null,
      "outputs": [
        {
          "output_type": "display_data",
          "data": {
            "text/plain": [
              "<Figure size 432x288 with 5 Axes>"
            ],
            "image/png": "[encoded data removed]"
          },
          "metadata": {
            "needs_background": "light"
          }
        }
      ]
    },
    {
      "cell_type": "code",
      "source": [
        "# coding: utf-8\n",
        "import os\n",
        "import sys\n",
        "\n",
        "sys.path.append(os.pardir)  # 부모 디렉터리의 파일을 가져올 수 있도록 설정\n",
        "import numpy as np\n",
        "import matplotlib.pyplot as plt\n",
        "from dataset.mnist import load_mnist\n",
        "from common.util import smooth_curve\n",
        "from common.multi_layer_net import MultiLayerNet\n",
        "from common.optimizer import SGD\n",
        "\n",
        "\n",
        "# 0. MNIST 데이터 읽기==========\n",
        "(x_train, t_train), (x_test, t_test) = load_mnist(normalize=True)\n",
        "\n",
        "train_size = x_train.shape[0]\n",
        "batch_size = 128\n",
        "max_iterations = 1000\n",
        "\n",
        "\n",
        "# 1. 실험용 설정==========\n",
        "weight_init_types = {'std=0.01': 0.01, 'Xavier': 'sigmoid', 'He': 'relu'}\n",
        "optimizer = SGD(lr=0.01)\n",
        "\n",
        "networks = {}\n",
        "train_loss = {}\n",
        "for key, weight_type in weight_init_types.items():\n",
        "    networks[key] = MultiLayerNet(input_size=784, hidden_size_list=[100, 100, 100, 100],\n",
        "                                  output_size=10, weight_init_std=weight_type)\n",
        "    train_loss[key] = []\n",
        "\n",
        "\n",
        "# 2. 훈련 시작==========\n",
        "for i in range(max_iterations):\n",
        "    batch_mask = np.random.choice(train_size, batch_size)\n",
        "    x_batch = x_train[batch_mask]\n",
        "    t_batch = t_train[batch_mask]\n",
        "    \n",
        "    for key in weight_init_types.keys():\n",
        "        grads = networks[key].gradient(x_batch, t_batch)\n",
        "        optimizer.update(networks[key].params, grads)\n",
        "    \n",
        "        loss = networks[key].loss(x_batch, t_batch)\n",
        "        train_loss[key].append(loss)\n",
        "    \n",
        "    if i % 100 == 0:\n",
        "        print(\"===========\" + \"iteration:\" + str(i) + \"===========\")\n",
        "        for key in weight_init_types.keys():\n",
        "            loss = networks[key].loss(x_batch, t_batch)\n",
        "            print(key + \":\" + str(loss))\n",
        "\n",
        "\n",
        "# 3. 그래프 그리기==========\n",
        "markers = {'std=0.01': 'o', 'Xavier': 's', 'He': 'D'}\n",
        "x = np.arange(max_iterations)\n",
        "for key in weight_init_types.keys():\n",
        "    plt.plot(x, smooth_curve(train_loss[key]), marker=markers[key], markevery=100, label=key)\n",
        "plt.xlabel(\"iterations\")\n",
        "plt.ylabel(\"loss\")\n",
        "plt.ylim(0, 2.5)\n",
        "plt.legend()\n",
        "plt.show()"
      ],
      "metadata": {
        "colab": {
          "base_uri": "https://localhost:8080/",
          "height": 1000
        },
        "id": "MOzETyHc2HNS",
        "outputId": "dfca61b8-f806-4d2b-b0e3-e2a318cbb960"
      },
      "execution_count": null,
      "outputs": [
        {
          "output_type": "stream",
          "name": "stdout",
          "text": [
            "===========iteration:0===========\n",
            "std=0.01:2.30255486594765\n",
            "Xavier:2.3031316807385007\n",
            "He:2.3084511330350503\n",
            "===========iteration:100===========\n",
            "std=0.01:2.3024204805334936\n",
            "Xavier:2.238550425641158\n",
            "He:1.4278124520950342\n",
            "===========iteration:200===========\n",
            "std=0.01:2.3025321400061416\n",
            "Xavier:2.114786984342519\n",
            "He:0.7271825325854002\n",
            "===========iteration:300===========\n",
            "std=0.01:2.302617934995298\n",
            "Xavier:1.9123866839403538\n",
            "He:0.5761183486058352\n",
            "===========iteration:400===========\n",
            "std=0.01:2.3018285761880137\n",
            "Xavier:1.5277690800770674\n",
            "He:0.3447985577903403\n",
            "===========iteration:500===========\n",
            "std=0.01:2.3035712258508187\n",
            "Xavier:1.1502497953314812\n",
            "He:0.34900857547657615\n",
            "===========iteration:600===========\n",
            "std=0.01:2.302712783419968\n",
            "Xavier:0.8934390561662746\n",
            "He:0.2964271758184442\n",
            "===========iteration:700===========\n",
            "std=0.01:2.2997521697625785\n",
            "Xavier:0.8065069058514374\n",
            "He:0.39563227194735506\n",
            "===========iteration:800===========\n",
            "std=0.01:2.302390807741999\n",
            "Xavier:0.643700603153231\n",
            "He:0.29348556200467163\n",
            "===========iteration:900===========\n",
            "std=0.01:2.303015581108041\n",
            "Xavier:0.5034010702306433\n",
            "He:0.2042159715699177\n"
          ]
        },
        {
          "output_type": "display_data",
          "data": {
            "text/plain": [
              "<Figure size 432x288 with 1 Axes>"
            ],
            "image/png": "[encoded data removed]"
          },
          "metadata": {
            "needs_background": "light"
          }
        }
      ]
    },
    {
      "cell_type": "code",
      "source": [
        "# coding: utf-8\n",
        "import sys, os\n",
        "sys.path.append(os.pardir)  # 부모 디렉터리의 파일을 가져올 수 있도록 설정\n",
        "import numpy as np\n",
        "import matplotlib.pyplot as plt\n",
        "from dataset.mnist import load_mnist\n",
        "from common.multi_layer_net_extend import MultiLayerNetExtend\n",
        "from common.optimizer import SGD, Adam\n",
        "\n",
        "(x_train, t_train), (x_test, t_test) = load_mnist(normalize=True)\n",
        "\n",
        "# 학습 데이터를 줄임\n",
        "x_train = x_train[:1000]\n",
        "t_train = t_train[:1000]\n",
        "\n",
        "max_epochs = 20\n",
        "train_size = x_train.shape[0]\n",
        "batch_size = 100\n",
        "learning_rate = 0.01\n",
        "\n",
        "\n",
        "def __train(weight_init_std):\n",
        "    bn_network = MultiLayerNetExtend(input_size=784, hidden_size_list=[100, 100, 100, 100, 100], output_size=10, \n",
        "                                    weight_init_std=weight_init_std, use_batchnorm=True)\n",
        "    network = MultiLayerNetExtend(input_size=784, hidden_size_list=[100, 100, 100, 100, 100], output_size=10,\n",
        "                                weight_init_std=weight_init_std)\n",
        "    optimizer = SGD(lr=learning_rate)\n",
        "    \n",
        "    train_acc_list = []\n",
        "    bn_train_acc_list = []\n",
        "    \n",
        "    iter_per_epoch = max(train_size / batch_size, 1)\n",
        "    epoch_cnt = 0\n",
        "    \n",
        "    for i in range(1000000000):\n",
        "        batch_mask = np.random.choice(train_size, batch_size)\n",
        "        x_batch = x_train[batch_mask]\n",
        "        t_batch = t_train[batch_mask]\n",
        "    \n",
        "        for _network in (bn_network, network):\n",
        "            grads = _network.gradient(x_batch, t_batch)\n",
        "            optimizer.update(_network.params, grads)\n",
        "    \n",
        "        if i % iter_per_epoch == 0:\n",
        "            train_acc = network.accuracy(x_train, t_train)\n",
        "            bn_train_acc = bn_network.accuracy(x_train, t_train)\n",
        "            train_acc_list.append(train_acc)\n",
        "            bn_train_acc_list.append(bn_train_acc)\n",
        "    \n",
        "            print(\"epoch:\" + str(epoch_cnt) + \" | \" + str(train_acc) + \" - \" + str(bn_train_acc))\n",
        "    \n",
        "            epoch_cnt += 1\n",
        "            if epoch_cnt >= max_epochs:\n",
        "                break\n",
        "                \n",
        "    return train_acc_list, bn_train_acc_list\n",
        "\n",
        "\n",
        "# 그래프 그리기==========\n",
        "weight_scale_list = np.logspace(0, -4, num=16)\n",
        "x = np.arange(max_epochs)\n",
        "\n",
        "for i, w in enumerate(weight_scale_list):\n",
        "    print( \"============== \" + str(i+1) + \"/16\" + \" ==============\")\n",
        "    train_acc_list, bn_train_acc_list = __train(w)\n",
        "    \n",
        "    plt.subplot(4,4,i+1)\n",
        "    plt.title(\"W:\" + str(w))\n",
        "    if i == 15:\n",
        "        plt.plot(x, bn_train_acc_list, label='Batch Normalization', markevery=2)\n",
        "        plt.plot(x, train_acc_list, linestyle = \"--\", label='Normal(without BatchNorm)', markevery=2)\n",
        "    else:\n",
        "        plt.plot(x, bn_train_acc_list, markevery=2)\n",
        "        plt.plot(x, train_acc_list, linestyle=\"--\", markevery=2)\n",
        "\n",
        "    plt.ylim(0, 1.0)\n",
        "    if i % 4:\n",
        "        plt.yticks([])\n",
        "    else:\n",
        "        plt.ylabel(\"accuracy\")\n",
        "    if i < 12:\n",
        "        plt.xticks([])\n",
        "    else:\n",
        "        plt.xlabel(\"epochs\")\n",
        "    plt.legend(loc='lower right')\n",
        "    \n",
        "plt.show()"
      ],
      "metadata": {
        "colab": {
          "base_uri": "https://localhost:8080/",
          "height": 1000
        },
        "id": "ip5PwPwI2ohe",
        "outputId": "530a390f-b2ac-4ec3-ae1a-f70c75859226"
      },
      "execution_count": null,
      "outputs": [
        {
          "output_type": "stream",
          "name": "stdout",
          "text": [
            "============== 1/16 ==============\n",
            "epoch:0 | 0.105 - 0.091\n"
          ]
        },
        {
          "output_type": "stream",
          "name": "stderr",
          "text": [
            "/content/drive/MyDrive/Colab_Notebooks/Machine_learning/book/basic_deeplearning/deep-learning-from-scratch/common/functions.py:34: RuntimeWarning: invalid value encountered in subtract\n",
            "  x = x - np.max(x, axis=0)\n"
          ]
        },
        {
          "output_type": "stream",
          "name": "stdout",
          "text": [
            "epoch:1 | 0.097 - 0.096\n",
            "epoch:2 | 0.097 - 0.119\n",
            "epoch:3 | 0.097 - 0.157\n",
            "epoch:4 | 0.097 - 0.18\n",
            "epoch:5 | 0.097 - 0.197\n",
            "epoch:6 | 0.097 - 0.213\n",
            "epoch:7 | 0.097 - 0.242\n",
            "epoch:8 | 0.097 - 0.258\n",
            "epoch:9 | 0.097 - 0.274\n",
            "epoch:10 | 0.097 - 0.281\n",
            "epoch:11 | 0.097 - 0.309\n",
            "epoch:12 | 0.097 - 0.318\n",
            "epoch:13 | 0.097 - 0.332\n",
            "epoch:14 | 0.097 - 0.36\n",
            "epoch:15 | 0.097 - 0.377\n",
            "epoch:16 | 0.097 - 0.387\n",
            "epoch:17 | 0.097 - 0.398\n",
            "epoch:18 | 0.097 - 0.41\n"
          ]
        },
        {
          "output_type": "stream",
          "name": "stderr",
          "text": [
            "No handles with labels found to put in legend.\n"
          ]
        },
        {
          "output_type": "stream",
          "name": "stdout",
          "text": [
            "epoch:19 | 0.097 - 0.427\n",
            "============== 2/16 ==============\n",
            "epoch:0 | 0.087 - 0.087\n"
          ]
        },
        {
          "output_type": "stream",
          "name": "stderr",
          "text": [
            "/content/drive/MyDrive/Colab_Notebooks/Machine_learning/book/basic_deeplearning/deep-learning-from-scratch/common/multi_layer_net_extend.py:104: RuntimeWarning: overflow encountered in square\n",
            "  weight_decay += 0.5 * self.weight_decay_lambda * np.sum(W**2)\n",
            "/content/drive/MyDrive/Colab_Notebooks/Machine_learning/book/basic_deeplearning/deep-learning-from-scratch/common/multi_layer_net_extend.py:104: RuntimeWarning: invalid value encountered in double_scalars\n",
            "  weight_decay += 0.5 * self.weight_decay_lambda * np.sum(W**2)\n",
            "/usr/local/lib/python3.7/dist-packages/numpy/core/fromnumeric.py:86: RuntimeWarning: overflow encountered in reduce\n",
            "  return ufunc.reduce(obj, axis, dtype, out, **passkwargs)\n"
          ]
        },
        {
          "output_type": "stream",
          "name": "stdout",
          "text": [
            "epoch:1 | 0.097 - 0.069\n",
            "epoch:2 | 0.097 - 0.081\n",
            "epoch:3 | 0.097 - 0.112\n",
            "epoch:4 | 0.097 - 0.134\n",
            "epoch:5 | 0.097 - 0.163\n",
            "epoch:6 | 0.097 - 0.172\n",
            "epoch:7 | 0.097 - 0.19\n",
            "epoch:8 | 0.097 - 0.215\n",
            "epoch:9 | 0.097 - 0.237\n",
            "epoch:10 | 0.097 - 0.267\n",
            "epoch:11 | 0.097 - 0.281\n",
            "epoch:12 | 0.097 - 0.305\n",
            "epoch:13 | 0.097 - 0.333\n",
            "epoch:14 | 0.097 - 0.35\n",
            "epoch:15 | 0.097 - 0.368\n",
            "epoch:16 | 0.097 - 0.394\n",
            "epoch:17 | 0.097 - 0.415\n",
            "epoch:18 | 0.097 - 0.44\n"
          ]
        },
        {
          "output_type": "stream",
          "name": "stderr",
          "text": [
            "No handles with labels found to put in legend.\n"
          ]
        },
        {
          "output_type": "stream",
          "name": "stdout",
          "text": [
            "epoch:19 | 0.097 - 0.457\n",
            "============== 3/16 ==============\n",
            "epoch:0 | 0.116 - 0.051\n",
            "epoch:1 | 0.3 - 0.085\n",
            "epoch:2 | 0.377 - 0.126\n",
            "epoch:3 | 0.48 - 0.164\n",
            "epoch:4 | 0.558 - 0.192\n",
            "epoch:5 | 0.615 - 0.239\n",
            "epoch:6 | 0.672 - 0.283\n",
            "epoch:7 | 0.707 - 0.323\n",
            "epoch:8 | 0.751 - 0.35\n",
            "epoch:9 | 0.789 - 0.389\n",
            "epoch:10 | 0.812 - 0.411\n",
            "epoch:11 | 0.846 - 0.444\n",
            "epoch:12 | 0.862 - 0.457\n",
            "epoch:13 | 0.88 - 0.478\n",
            "epoch:14 | 0.89 - 0.502\n",
            "epoch:15 | 0.908 - 0.515\n",
            "epoch:16 | 0.917 - 0.543\n",
            "epoch:17 | 0.925 - 0.55\n",
            "epoch:18 | 0.94 - 0.575\n"
          ]
        },
        {
          "output_type": "stream",
          "name": "stderr",
          "text": [
            "No handles with labels found to put in legend.\n"
          ]
        },
        {
          "output_type": "stream",
          "name": "stdout",
          "text": [
            "epoch:19 | 0.948 - 0.602\n",
            "============== 4/16 ==============\n",
            "epoch:0 | 0.136 - 0.098\n",
            "epoch:1 | 0.251 - 0.122\n",
            "epoch:2 | 0.39 - 0.207\n",
            "epoch:3 | 0.49 - 0.277\n",
            "epoch:4 | 0.542 - 0.348\n",
            "epoch:5 | 0.6 - 0.396\n",
            "epoch:6 | 0.649 - 0.451\n",
            "epoch:7 | 0.672 - 0.493\n",
            "epoch:8 | 0.713 - 0.531\n",
            "epoch:9 | 0.729 - 0.564\n",
            "epoch:10 | 0.748 - 0.603\n",
            "epoch:11 | 0.782 - 0.617\n",
            "epoch:12 | 0.792 - 0.646\n",
            "epoch:13 | 0.787 - 0.663\n",
            "epoch:14 | 0.806 - 0.688\n",
            "epoch:15 | 0.821 - 0.707\n",
            "epoch:16 | 0.821 - 0.73\n",
            "epoch:17 | 0.845 - 0.747\n",
            "epoch:18 | 0.859 - 0.758\n"
          ]
        },
        {
          "output_type": "stream",
          "name": "stderr",
          "text": [
            "No handles with labels found to put in legend.\n"
          ]
        },
        {
          "output_type": "stream",
          "name": "stdout",
          "text": [
            "epoch:19 | 0.861 - 0.771\n",
            "============== 5/16 ==============\n",
            "epoch:0 | 0.12 - 0.102\n",
            "epoch:1 | 0.137 - 0.176\n",
            "epoch:2 | 0.15 - 0.3\n",
            "epoch:3 | 0.152 - 0.441\n",
            "epoch:4 | 0.161 - 0.521\n",
            "epoch:5 | 0.175 - 0.595\n",
            "epoch:6 | 0.18 - 0.653\n",
            "epoch:7 | 0.197 - 0.698\n",
            "epoch:8 | 0.208 - 0.727\n",
            "epoch:9 | 0.213 - 0.75\n",
            "epoch:10 | 0.227 - 0.768\n",
            "epoch:11 | 0.231 - 0.786\n",
            "epoch:12 | 0.233 - 0.798\n",
            "epoch:13 | 0.235 - 0.812\n",
            "epoch:14 | 0.236 - 0.825\n",
            "epoch:15 | 0.24 - 0.831\n",
            "epoch:16 | 0.242 - 0.843\n",
            "epoch:17 | 0.253 - 0.857\n",
            "epoch:18 | 0.26 - 0.864\n"
          ]
        },
        {
          "output_type": "stream",
          "name": "stderr",
          "text": [
            "No handles with labels found to put in legend.\n"
          ]
        },
        {
          "output_type": "stream",
          "name": "stdout",
          "text": [
            "epoch:19 | 0.266 - 0.874\n",
            "============== 6/16 ==============\n",
            "epoch:0 | 0.096 - 0.125\n",
            "epoch:1 | 0.111 - 0.23\n",
            "epoch:2 | 0.115 - 0.453\n",
            "epoch:3 | 0.138 - 0.56\n",
            "epoch:4 | 0.123 - 0.624\n",
            "epoch:5 | 0.117 - 0.683\n",
            "epoch:6 | 0.116 - 0.716\n",
            "epoch:7 | 0.116 - 0.748\n",
            "epoch:8 | 0.116 - 0.775\n",
            "epoch:9 | 0.129 - 0.811\n",
            "epoch:10 | 0.116 - 0.823\n",
            "epoch:11 | 0.124 - 0.856\n",
            "epoch:12 | 0.145 - 0.871\n",
            "epoch:13 | 0.127 - 0.884\n",
            "epoch:14 | 0.12 - 0.894\n",
            "epoch:15 | 0.17 - 0.907\n",
            "epoch:16 | 0.179 - 0.923\n",
            "epoch:17 | 0.183 - 0.932\n",
            "epoch:18 | 0.184 - 0.937\n"
          ]
        },
        {
          "output_type": "stream",
          "name": "stderr",
          "text": [
            "No handles with labels found to put in legend.\n"
          ]
        },
        {
          "output_type": "stream",
          "name": "stdout",
          "text": [
            "epoch:19 | 0.179 - 0.947\n",
            "============== 7/16 ==============\n",
            "epoch:0 | 0.1 - 0.11\n",
            "epoch:1 | 0.123 - 0.206\n",
            "epoch:2 | 0.117 - 0.467\n",
            "epoch:3 | 0.117 - 0.604\n",
            "epoch:4 | 0.117 - 0.699\n",
            "epoch:5 | 0.117 - 0.79\n",
            "epoch:6 | 0.117 - 0.835\n",
            "epoch:7 | 0.117 - 0.869\n",
            "epoch:8 | 0.117 - 0.892\n",
            "epoch:9 | 0.117 - 0.911\n",
            "epoch:10 | 0.117 - 0.935\n",
            "epoch:11 | 0.117 - 0.94\n",
            "epoch:12 | 0.117 - 0.95\n",
            "epoch:13 | 0.117 - 0.962\n",
            "epoch:14 | 0.117 - 0.966\n",
            "epoch:15 | 0.117 - 0.972\n",
            "epoch:16 | 0.117 - 0.976\n",
            "epoch:17 | 0.117 - 0.977\n",
            "epoch:18 | 0.117 - 0.98\n"
          ]
        },
        {
          "output_type": "stream",
          "name": "stderr",
          "text": [
            "No handles with labels found to put in legend.\n"
          ]
        },
        {
          "output_type": "stream",
          "name": "stdout",
          "text": [
            "epoch:19 | 0.117 - 0.983\n",
            "============== 8/16 ==============\n",
            "epoch:0 | 0.097 - 0.104\n",
            "epoch:1 | 0.117 - 0.388\n",
            "epoch:2 | 0.117 - 0.625\n",
            "epoch:3 | 0.116 - 0.72\n",
            "epoch:4 | 0.116 - 0.778\n",
            "epoch:5 | 0.116 - 0.83\n",
            "epoch:6 | 0.116 - 0.853\n",
            "epoch:7 | 0.116 - 0.887\n",
            "epoch:8 | 0.116 - 0.92\n",
            "epoch:9 | 0.116 - 0.945\n",
            "epoch:10 | 0.116 - 0.954\n",
            "epoch:11 | 0.117 - 0.982\n",
            "epoch:12 | 0.117 - 0.99\n",
            "epoch:13 | 0.117 - 0.992\n",
            "epoch:14 | 0.117 - 0.995\n",
            "epoch:15 | 0.117 - 0.996\n",
            "epoch:16 | 0.117 - 0.997\n",
            "epoch:17 | 0.117 - 0.998\n",
            "epoch:18 | 0.117 - 0.999\n"
          ]
        },
        {
          "output_type": "stream",
          "name": "stderr",
          "text": [
            "No handles with labels found to put in legend.\n"
          ]
        },
        {
          "output_type": "stream",
          "name": "stdout",
          "text": [
            "epoch:19 | 0.116 - 0.999\n",
            "============== 9/16 ==============\n",
            "epoch:0 | 0.093 - 0.106\n",
            "epoch:1 | 0.097 - 0.452\n",
            "epoch:2 | 0.116 - 0.663\n",
            "epoch:3 | 0.116 - 0.744\n",
            "epoch:4 | 0.116 - 0.833\n",
            "epoch:5 | 0.116 - 0.87\n",
            "epoch:6 | 0.116 - 0.893\n",
            "epoch:7 | 0.116 - 0.909\n",
            "epoch:8 | 0.116 - 0.939\n",
            "epoch:9 | 0.116 - 0.975\n",
            "epoch:10 | 0.116 - 0.982\n",
            "epoch:11 | 0.116 - 0.994\n",
            "epoch:12 | 0.116 - 0.995\n",
            "epoch:13 | 0.116 - 0.995\n",
            "epoch:14 | 0.116 - 0.998\n",
            "epoch:15 | 0.116 - 1.0\n",
            "epoch:16 | 0.116 - 1.0\n",
            "epoch:17 | 0.116 - 1.0\n",
            "epoch:18 | 0.116 - 1.0\n"
          ]
        },
        {
          "output_type": "stream",
          "name": "stderr",
          "text": [
            "No handles with labels found to put in legend.\n"
          ]
        },
        {
          "output_type": "stream",
          "name": "stdout",
          "text": [
            "epoch:19 | 0.117 - 1.0\n",
            "============== 10/16 ==============\n",
            "epoch:0 | 0.105 - 0.125\n",
            "epoch:1 | 0.116 - 0.576\n",
            "epoch:2 | 0.116 - 0.729\n",
            "epoch:3 | 0.116 - 0.775\n",
            "epoch:4 | 0.116 - 0.795\n",
            "epoch:5 | 0.116 - 0.801\n",
            "epoch:6 | 0.116 - 0.832\n",
            "epoch:7 | 0.116 - 0.874\n",
            "epoch:8 | 0.116 - 0.906\n",
            "epoch:9 | 0.116 - 0.978\n",
            "epoch:10 | 0.116 - 0.98\n",
            "epoch:11 | 0.116 - 0.993\n",
            "epoch:12 | 0.116 - 0.99\n",
            "epoch:13 | 0.116 - 0.998\n",
            "epoch:14 | 0.116 - 0.996\n",
            "epoch:15 | 0.116 - 0.999\n",
            "epoch:16 | 0.116 - 0.999\n",
            "epoch:17 | 0.116 - 0.938\n",
            "epoch:18 | 0.116 - 0.99\n"
          ]
        },
        {
          "output_type": "stream",
          "name": "stderr",
          "text": [
            "No handles with labels found to put in legend.\n"
          ]
        },
        {
          "output_type": "stream",
          "name": "stdout",
          "text": [
            "epoch:19 | 0.116 - 0.997\n",
            "============== 11/16 ==============\n",
            "epoch:0 | 0.116 - 0.189\n",
            "epoch:1 | 0.116 - 0.676\n",
            "epoch:2 | 0.116 - 0.808\n",
            "epoch:3 | 0.116 - 0.81\n",
            "epoch:4 | 0.116 - 0.904\n",
            "epoch:5 | 0.116 - 0.842\n",
            "epoch:6 | 0.116 - 0.94\n",
            "epoch:7 | 0.116 - 0.975\n",
            "epoch:8 | 0.116 - 0.952\n",
            "epoch:9 | 0.116 - 0.976\n",
            "epoch:10 | 0.117 - 0.97\n",
            "epoch:11 | 0.116 - 0.982\n",
            "epoch:12 | 0.116 - 0.99\n",
            "epoch:13 | 0.116 - 0.989\n",
            "epoch:14 | 0.116 - 0.984\n",
            "epoch:15 | 0.116 - 0.991\n",
            "epoch:16 | 0.116 - 0.991\n",
            "epoch:17 | 0.116 - 0.991\n",
            "epoch:18 | 0.116 - 0.994\n"
          ]
        },
        {
          "output_type": "stream",
          "name": "stderr",
          "text": [
            "No handles with labels found to put in legend.\n"
          ]
        },
        {
          "output_type": "stream",
          "name": "stdout",
          "text": [
            "epoch:19 | 0.117 - 0.988\n",
            "============== 12/16 ==============\n",
            "epoch:0 | 0.117 - 0.191\n",
            "epoch:1 | 0.117 - 0.315\n",
            "epoch:2 | 0.117 - 0.491\n",
            "epoch:3 | 0.117 - 0.52\n",
            "epoch:4 | 0.117 - 0.519\n",
            "epoch:5 | 0.117 - 0.52\n",
            "epoch:6 | 0.117 - 0.597\n",
            "epoch:7 | 0.117 - 0.605\n",
            "epoch:8 | 0.117 - 0.606\n",
            "epoch:9 | 0.117 - 0.615\n",
            "epoch:10 | 0.117 - 0.611\n",
            "epoch:11 | 0.117 - 0.669\n",
            "epoch:12 | 0.117 - 0.708\n",
            "epoch:13 | 0.117 - 0.711\n",
            "epoch:14 | 0.117 - 0.713\n",
            "epoch:15 | 0.117 - 0.801\n",
            "epoch:16 | 0.117 - 0.713\n",
            "epoch:17 | 0.117 - 0.812\n",
            "epoch:18 | 0.117 - 0.786\n"
          ]
        },
        {
          "output_type": "stream",
          "name": "stderr",
          "text": [
            "No handles with labels found to put in legend.\n"
          ]
        },
        {
          "output_type": "stream",
          "name": "stdout",
          "text": [
            "epoch:19 | 0.117 - 0.793\n",
            "============== 13/16 ==============\n",
            "epoch:0 | 0.117 - 0.202\n",
            "epoch:1 | 0.116 - 0.488\n",
            "epoch:2 | 0.117 - 0.499\n",
            "epoch:3 | 0.116 - 0.53\n",
            "epoch:4 | 0.117 - 0.585\n",
            "epoch:5 | 0.117 - 0.601\n",
            "epoch:6 | 0.116 - 0.605\n",
            "epoch:7 | 0.116 - 0.607\n",
            "epoch:8 | 0.116 - 0.593\n",
            "epoch:9 | 0.116 - 0.606\n",
            "epoch:10 | 0.116 - 0.609\n",
            "epoch:11 | 0.116 - 0.657\n",
            "epoch:12 | 0.116 - 0.649\n",
            "epoch:13 | 0.116 - 0.658\n",
            "epoch:14 | 0.116 - 0.672\n",
            "epoch:15 | 0.116 - 0.628\n",
            "epoch:16 | 0.117 - 0.637\n",
            "epoch:17 | 0.116 - 0.698\n",
            "epoch:18 | 0.116 - 0.693\n"
          ]
        },
        {
          "output_type": "stream",
          "name": "stderr",
          "text": [
            "No handles with labels found to put in legend.\n"
          ]
        },
        {
          "output_type": "stream",
          "name": "stdout",
          "text": [
            "epoch:19 | 0.116 - 0.712\n",
            "============== 14/16 ==============\n",
            "epoch:0 | 0.116 - 0.1\n",
            "epoch:1 | 0.097 - 0.317\n",
            "epoch:2 | 0.117 - 0.381\n",
            "epoch:3 | 0.117 - 0.411\n",
            "epoch:4 | 0.117 - 0.479\n",
            "epoch:5 | 0.117 - 0.507\n",
            "epoch:6 | 0.117 - 0.503\n",
            "epoch:7 | 0.117 - 0.516\n",
            "epoch:8 | 0.117 - 0.505\n",
            "epoch:9 | 0.117 - 0.511\n",
            "epoch:10 | 0.117 - 0.511\n",
            "epoch:11 | 0.117 - 0.225\n",
            "epoch:12 | 0.117 - 0.493\n",
            "epoch:13 | 0.117 - 0.514\n",
            "epoch:14 | 0.117 - 0.516\n",
            "epoch:15 | 0.117 - 0.508\n",
            "epoch:16 | 0.117 - 0.519\n",
            "epoch:17 | 0.117 - 0.522\n",
            "epoch:18 | 0.117 - 0.522\n"
          ]
        },
        {
          "output_type": "stream",
          "name": "stderr",
          "text": [
            "No handles with labels found to put in legend.\n"
          ]
        },
        {
          "output_type": "stream",
          "name": "stdout",
          "text": [
            "epoch:19 | 0.117 - 0.521\n",
            "============== 15/16 ==============\n",
            "epoch:0 | 0.1 - 0.135\n",
            "epoch:1 | 0.116 - 0.24\n",
            "epoch:2 | 0.116 - 0.365\n",
            "epoch:3 | 0.116 - 0.407\n",
            "epoch:4 | 0.116 - 0.412\n",
            "epoch:5 | 0.116 - 0.413\n",
            "epoch:6 | 0.117 - 0.481\n",
            "epoch:7 | 0.117 - 0.439\n",
            "epoch:8 | 0.117 - 0.453\n",
            "epoch:9 | 0.117 - 0.471\n",
            "epoch:10 | 0.116 - 0.478\n",
            "epoch:11 | 0.116 - 0.478\n",
            "epoch:12 | 0.116 - 0.504\n",
            "epoch:13 | 0.116 - 0.501\n",
            "epoch:14 | 0.117 - 0.503\n",
            "epoch:15 | 0.117 - 0.5\n",
            "epoch:16 | 0.117 - 0.515\n",
            "epoch:17 | 0.117 - 0.5\n",
            "epoch:18 | 0.117 - 0.512\n"
          ]
        },
        {
          "output_type": "stream",
          "name": "stderr",
          "text": [
            "No handles with labels found to put in legend.\n"
          ]
        },
        {
          "output_type": "stream",
          "name": "stdout",
          "text": [
            "epoch:19 | 0.117 - 0.512\n",
            "============== 16/16 ==============\n",
            "epoch:0 | 0.1 - 0.111\n",
            "epoch:1 | 0.117 - 0.219\n",
            "epoch:2 | 0.117 - 0.313\n",
            "epoch:3 | 0.117 - 0.317\n",
            "epoch:4 | 0.117 - 0.399\n",
            "epoch:5 | 0.116 - 0.403\n",
            "epoch:6 | 0.116 - 0.411\n",
            "epoch:7 | 0.116 - 0.407\n",
            "epoch:8 | 0.116 - 0.411\n",
            "epoch:9 | 0.116 - 0.411\n",
            "epoch:10 | 0.116 - 0.406\n",
            "epoch:11 | 0.116 - 0.416\n",
            "epoch:12 | 0.116 - 0.418\n",
            "epoch:13 | 0.116 - 0.414\n",
            "epoch:14 | 0.116 - 0.425\n",
            "epoch:15 | 0.116 - 0.425\n",
            "epoch:16 | 0.116 - 0.421\n",
            "epoch:17 | 0.116 - 0.424\n",
            "epoch:18 | 0.116 - 0.423\n",
            "epoch:19 | 0.116 - 0.335\n"
          ]
        },
        {
          "output_type": "display_data",
          "data": {
            "text/plain": [
              "<Figure size 432x288 with 16 Axes>"
            ],
            "image/png": "[encoded data removed]"
          },
          "metadata": {
            "needs_background": "light"
          }
        }
      ]
    }
  ]
}