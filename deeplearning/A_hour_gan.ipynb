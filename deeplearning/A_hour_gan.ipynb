{
  "nbformat": 4,
  "nbformat_minor": 0,
  "metadata": {
    "colab": {
      "provenance": [],
      "collapsed_sections": [],
      "authorship_tag": "ABX9TyOIjEQRiwVMaMNwqaGCoruB",
      "include_colab_link": true
    },
    "kernelspec": {
      "name": "python3",
      "display_name": "Python 3"
    },
    "language_info": {
      "name": "python"
    },
    "accelerator": "GPU",
    "gpuClass": "standard"
  },
  "cells": [
    {
      "cell_type": "markdown",
      "metadata": {
        "id": "view-in-github",
        "colab_type": "text"
      },
      "source": [
        "<a href=\"https://colab.research.google.com/github/jkworldchampion/Military_CodingStudy/blob/main/deeplearning/A_hour_gan.ipynb\" target=\"_parent\"><img src=\"https://colab.research.google.com/assets/colab-badge.svg\" alt=\"Open In Colab\"/></a>"
      ]
    },
    {
      "cell_type": "markdown",
      "source": [
        "# 간단한 코드로 gan의 구조 살펴보기\n",
        "다음은 Gan의 핵심인 Discriminator와 Generator가 어떻게 구성되어 있는지 가볍게 알아볼 수 있는 코드이다."
      ],
      "metadata": {
        "id": "5pqf1kNuGfxV"
      }
    },
    {
      "cell_type": "code",
      "execution_count": null,
      "metadata": {
        "id": "Nps-bkmG8gp5"
      },
      "outputs": [],
      "source": [
        "import torch\n",
        "import torch.nn as nn\n",
        "\n",
        "# 판별기 생성\n",
        "D = nn.Sequential(\n",
        "    nn.Linear(784, 128),   # 입력 28*28, hidden 128\n",
        "    nn.ReLU(),\n",
        "    nn.Linear(128, 1),\n",
        "    nn.Sigmoid()\n",
        ")\n",
        "\n",
        "# 생성기 생성\n",
        "G = nn.Sequential(\n",
        "    nn.Linear(100, 128),\n",
        "    nn.ReLU(),\n",
        "    nn.Linear(128, 784),\n",
        "    nn.Tanh()\n",
        ")\n",
        "\n",
        "# loss함수 정의\n",
        "criterion = nn.BCELoss()\n",
        "\n",
        "# optimizer 설정\n",
        "d_optimizer = torch.optim.Adam(D.parameters(), lr=0.01)\n",
        "g_optimizer = torch.optim.Adam(G.parameters(), lr=0.01)\n",
        "\n",
        "# 입력값에 대한 가정\n",
        "# Assume x be real images of shape (batch_size, 784)\n",
        "# Asuume z be random nois of shape (batch_size, 100)\n",
        "\n",
        "# train\n",
        "while True:\n",
        "    # train D\n",
        "    loss = criterion(D(x), 1) + criterion(D(G(z)), 0)\n",
        "    loss.backward()\n",
        "    d_optimizer.step()\n",
        "\n",
        "    # train G\n",
        "    loss = criterion(D(G(z)), 1)\n",
        "    loss.backward()\n",
        "    g_optimizer.step()"
      ]
    },
    {
      "cell_type": "markdown",
      "source": [
        "# 실행이 되는 gan코드!!"
      ],
      "metadata": {
        "id": "VT2v0pS2GjK8"
      }
    },
    {
      "cell_type": "markdown",
      "source": [
        "## 필요 library 불러오기"
      ],
      "metadata": {
        "id": "KCYEH35u6Uit"
      }
    },
    {
      "cell_type": "code",
      "source": [
        "import os\n",
        "import torch\n",
        "import torchvision\n",
        "import torch.nn as nn\n",
        "from torchvision import transforms\n",
        "from torchvision.utils import save_image"
      ],
      "metadata": {
        "id": "aI2gSAEG6Sqk"
      },
      "execution_count": 7,
      "outputs": []
    },
    {
      "cell_type": "markdown",
      "source": [
        "## Gpu 설정과 Hyper-parameter 설정해주기"
      ],
      "metadata": {
        "id": "MN79Ns9964hN"
      }
    },
    {
      "cell_type": "code",
      "source": [
        "# Device configuration\n",
        "# torch.device('cuda') or ('cpu')로 device설정\n",
        "# torch.cuda.is_available()로 cuda 가능한지 확인\n",
        "device = torch.device('cuda' if torch.cuda.is_available() else 'cpu')  # cuda.is\n",
        "\n",
        "# Hyper-parameters\n",
        "latent_size = 64   # 생성기 G를 최적화시키기 위해 적절하게 큰 latent space의 크기를 결정하는 값. 결국 가장 중요한 값.\n",
        "hidden_size = 256  \n",
        "image_size = 784   # input의 28*28\n",
        "num_epochs = 200\n",
        "batch_size = 100\n",
        "sample_dir = 'samples'"
      ],
      "metadata": {
        "id": "GK94cnfO6XC2"
      },
      "execution_count": 8,
      "outputs": []
    },
    {
      "cell_type": "markdown",
      "source": [
        "## Data 불러오기(다운로드) 및 기본 설정"
      ],
      "metadata": {
        "id": "6-55oOEx8Yat"
      }
    },
    {
      "cell_type": "code",
      "source": [
        "# Create a directory if not exists\n",
        "if not os.path.exists(sample_dir):  # 현재 경로에 samples 파일이 없으면\n",
        "    os.makedirs(sample_dir)         # samples 파일을 만들어라\n",
        "\n",
        "# Image processing\n",
        "transform = transforms.Compose([  \n",
        "    transforms.ToTensor(),             # numpy 이미지에서 torch 이미지로 변경\n",
        "    transforms.Normalize(mean=[0.5],   # 1 for greyscale channels\n",
        "                         std=[0.5])    # normailze는 (image - mean / std)를 수행함. 즉, 정규화 시키기\n",
        "])\n",
        "\n",
        "# MNIST dataset\n",
        "mnist = torchvision.datasets.MNIST(root='/data',   # 경로 설정\n",
        "                                   train=True,     # train용 데이터를 가져올지, test용인지. True일 경우 train용 데이터\n",
        "                                   transform=transform,  # 이미지를 가져올 형태\n",
        "                                   download=True)  # mnist가 없으면 다운로드 한다\n",
        "\n",
        "data_loader = torch.utils.data.DataLoader(dataset=mnist,  # 어떤 데이터를 가져오는가\n",
        "                                          batch_size=batch_size,  # batch_size\n",
        "                                          shuffle=True)   # 섞을것인지"
      ],
      "metadata": {
        "id": "ep7JDc6U8dQ1"
      },
      "execution_count": 9,
      "outputs": []
    },
    {
      "cell_type": "code",
      "source": [
        "# data_loader에서 간단하게 데이터 살펴보기\n",
        "import matplotlib.pyplot as plt\n",
        "for data in data_loader:\n",
        "  now_image = data[0][0]\n",
        "  tran = transforms.ToPILImage()\n",
        "  img_t = tran(now_image)\n",
        "  plt.imshow(img_t)\n",
        "  print(data[1][0])\n",
        "  break"
      ],
      "metadata": {
        "colab": {
          "base_uri": "https://localhost:8080/",
          "height": 283
        },
        "id": "C64NUBkc92bL",
        "outputId": "a80bde8f-264e-45cc-cea0-852af45f286e"
      },
      "execution_count": 11,
      "outputs": [
        {
          "output_type": "stream",
          "name": "stdout",
          "text": [
            "tensor(3)\n"
          ]
        },
        {
          "output_type": "display_data",
          "data": {
            "text/plain": [
              "<Figure size 432x288 with 1 Axes>"
            ],
            "image/png": "[encoded data removed]"
          },
          "metadata": {
            "needs_background": "light"
          }
        }
      ]
    },
    {
      "cell_type": "markdown",
      "source": [
        "## Discriminator와 Generator build"
      ],
      "metadata": {
        "id": "75TAD2sh8rGn"
      }
    },
    {
      "cell_type": "code",
      "source": [
        "# Discriminator   \n",
        "'''\n",
        "D는 판별기로써 결국 진짜를 1로, 가짜를 0으로 판별해야함 결과치는 softmax이므로 0~1에 해당함 \n",
        "'''\n",
        "D = nn.Sequential(\n",
        "    nn.Linear(image_size, hidden_size),\n",
        "    nn.LeakyReLU(0.2),\n",
        "    nn.Linear(hidden_size, hidden_size),\n",
        "    nn.LeakyReLU(0.2),\n",
        "    nn.Linear(hidden_size, 1),\n",
        "    nn.Sigmoid()\n",
        ")\n",
        "\n",
        "# Generator\n",
        "'''\n",
        "G는 생성기로써 진짜같은 이미지를 생성해 내야함, 즉 D(G(x)) = 1로 가까워져야함.\n",
        "'''\n",
        "G = nn.Sequential(\n",
        "    nn.Linear(latent_size, hidden_size),\n",
        "    nn.ReLU(),\n",
        "    nn.Linear(hidden_size, hidden_size),\n",
        "    nn.ReLU(),\n",
        "    nn.Linear(hidden_size, image_size),\n",
        "    nn.Tanh()\n",
        ")\n",
        "\n",
        "# Device setting  \n",
        "D = D.to(device)   # Gpu로 설정\n",
        "G = G.to(device)"
      ],
      "metadata": {
        "id": "zEdEBeRN8xbI"
      },
      "execution_count": 12,
      "outputs": []
    },
    {
      "cell_type": "markdown",
      "source": [
        "## Loss function설정과 Optimizer 설정"
      ],
      "metadata": {
        "id": "9JGswgfG84qJ"
      }
    },
    {
      "cell_type": "code",
      "source": [
        "# Binary cross entropy loss and optimizer\n",
        "criterion = nn.BCELoss()\n",
        "d_optimizer = torch.optim.Adam(D.parameters(), lr=0.0002)\n",
        "g_optimizer = torch.optim.Adam(G.parameters(), lr=0.0002)     # D:G를 1:5정도로 해봤는데 매우 망했다.\n",
        "\n",
        "# 사진 저장시 필요한 denormalization function\n",
        "def denorm(x):     \n",
        "    out = (x+1) / 2\n",
        "    return out.clamp(0, 1)   \n",
        "\n",
        "# iteration마다 gradient를 초기화 해주기 위한 function\n",
        "def reset_grad():\n",
        "    d_optimizer.zero_grad()   # pytorch는 gradient가 누적되기 때문에 다시 0으로 만들어 줘야한다.\n",
        "    g_optimizer.zero_grad()"
      ],
      "metadata": {
        "id": "dJBNWIsW84BR"
      },
      "execution_count": 13,
      "outputs": []
    },
    {
      "cell_type": "markdown",
      "source": [
        "## 학습하기와 결과물 저장하기"
      ],
      "metadata": {
        "id": "LmKE-Gaa9hcR"
      }
    },
    {
      "cell_type": "code",
      "source": [
        "# Start training\n",
        "total_step = len(data_loader)  # 600\n",
        "for epoch in range(num_epochs):  # 주어진 epochs만큼 돌리기\n",
        "    for i, (images, _) in enumerate(data_loader):  # data_loader에서 iterator 객체를 받아와 하나씩 다룬다. 정확히는 batch_size만큼 matrix로 가져온다, 정답에 해당하는 tensor배열은 _로 버린다\n",
        "        images = images.reshape(batch_size, -1).to(device)   # (100, 1, 28, 28) -> (100, 784)\n",
        "\n",
        "        # Create the labels which are later used as input for the BCE loss\n",
        "        real_labels = torch.ones(batch_size, 1).to(device)    # (100, 1)의 1로된 tensor / 결국 D가 진짜 이미지를 1로 판별해야하기 때문\n",
        "        fake_labels = torch.zeros(batch_size, 1).to(device)   # (100, 1)의 0으로 된 tensor\n",
        "\n",
        "        #===========================#\n",
        "        #  Train the discriminator  # \n",
        "        #===========================#\n",
        "\n",
        "        # Compute BCE_Loss using real images where BCE_Loss(x, y): -y * log(D(x)) - (1-y) * log(1 - D(x))\n",
        "        # Second term of the loss is always zero since real_label == 1\n",
        "        outputs = D(images)                             # outputs.shape = (batch_size, 1), 각각 진짜일 sigmoid값 \n",
        "        d_loss_real = criterion(outputs, real_labels)   # 진짜일 확률을 예측한 값과 1 사이의 Binary_Cross_Entropy값 0.67\n",
        "        real_score = outputs\n",
        "\n",
        "        # Compute BCELoss using fake images\n",
        "        # First term of the loss is always zero since fake_labels == 0\n",
        "        z = torch.randn(batch_size, latent_size).to(device)   # latent_size를 통해 잠재 공간의 크기를 정한 뒤 이미지에서 특징을 매칭시킬 z를 정의한다.\n",
        "        fake_images = G(z)                                    # z를 통해 fake_image를 생성한다  \n",
        "        \n",
        "        # 생성된 이미지를 볼 수 있다!!\n",
        "        # tran = transforms.ToPILImage()\n",
        "        # img_t = tran(fake_images[0].reshape(28,28))\n",
        "        # plt.imshow(img_t)\n",
        "\n",
        "        outputs = D(fake_images)   # fake_image에 대한 진실 판별값을 알아본다\n",
        "        d_loss_fake = criterion(outputs, fake_labels)  # BCELoss를 구한다\n",
        "        fake_score = outputs\n",
        "        \n",
        "        # Backprop and optimize\n",
        "        d_loss = d_loss_real + d_loss_fake\n",
        "        reset_grad()  \n",
        "        d_loss.backward()   # 스칼라 값에 대해 미분을 시행한다\n",
        "        d_optimizer.step()  # 미분값을 토대로 parameters를 갱신한다\n",
        "        \n",
        "        # ================================================================== #\n",
        "        #                        Train the generator                         #\n",
        "        # ================================================================== #\n",
        "\n",
        "        # Compute loss with fake images\n",
        "        z = torch.randn(batch_size, latent_size).to(device)\n",
        "        fake_images = G(z)\n",
        "        outputs = D(fake_images)   # D(G(z))\n",
        "        \n",
        "        # We train G to maximize log(D(G(z)) instead of minimizing log(1-D(G(z)))\n",
        "        # For the reason, see the last paragraph of section 3. https://arxiv.org/pdf/1406.2661.pdf\n",
        "        g_loss = criterion(outputs, real_labels)    # 결국 D(G(z))가 1로 가까워져야하기 때문\n",
        "        \n",
        "        # Backprop and optimize\n",
        "        reset_grad()\n",
        "        g_loss.backward()\n",
        "        g_optimizer.step()\n",
        "        \n",
        "        if (i+1) % 300 == 0:    # batch_size에 의해 iterator가 3번 돌면, 즉 데이터가 반이 계산되면 다음을 출력\n",
        "            print('Epoch [{}/{}], Step [{}/{}], d_loss: {:.4f}, g_loss: {:.4f}, D(x): {:.2f}, D(G(z)): {:.2f}' \n",
        "                  .format(epoch, num_epochs, i+1, total_step, d_loss.item(), g_loss.item(), \n",
        "                          real_score.mean().item(), fake_score.mean().item()))\n",
        "    \n",
        "    # Save real images\n",
        "    if (epoch+1) == 1:\n",
        "        images = images.reshape(images.size(0), 1, 28, 28)\n",
        "        save_image(denorm(images), os.path.join(sample_dir, 'real_images.png'))\n",
        "    \n",
        "    # Save sampled images\n",
        "    fake_images = fake_images.reshape(fake_images.size(0), 1, 28, 28)\n",
        "    save_image(denorm(fake_images), os.path.join(sample_dir, 'fake_images-{}.png'.format(epoch+1)))"
      ],
      "metadata": {
        "id": "Nbk6TTpu9l55"
      },
      "execution_count": null,
      "outputs": []
    },
    {
      "cell_type": "markdown",
      "source": [
        "## 모델 저장하기"
      ],
      "metadata": {
        "id": "pHzP-igF9p7C"
      }
    },
    {
      "cell_type": "code",
      "source": [
        "# Save the model checkpoints \n",
        "torch.save(G.state_dict(), 'G.ckpt')\n",
        "torch.save(D.state_dict(), 'D.ckpt')"
      ],
      "metadata": {
        "id": "MhJdnd_p9sQr"
      },
      "execution_count": null,
      "outputs": []
    }
  ]
}