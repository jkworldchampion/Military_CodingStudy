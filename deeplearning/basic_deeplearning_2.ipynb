{
  "nbformat": 4,
  "nbformat_minor": 0,
  "metadata": {
    "colab": {
      "name": "basic_deeplearning_2.ipynb",
      "provenance": [],
      "collapsed_sections": [],
      "authorship_tag": "ABX9TyOz5hjdmgUvRt0GyyjwYtkV",
      "include_colab_link": true
    },
    "kernelspec": {
      "name": "python3",
      "display_name": "Python 3"
    },
    "language_info": {
      "name": "python"
    }
  },
  "cells": [
    {
      "cell_type": "markdown",
      "metadata": {
        "id": "view-in-github",
        "colab_type": "text"
      },
      "source": [
        "<a href=\"https://colab.research.google.com/github/jkworldchampion/Military_CodingStudy/blob/main/deeplearning/basic_deeplearning_2.ipynb\" target=\"_parent\"><img src=\"https://colab.research.google.com/assets/colab-badge.svg\" alt=\"Open In Colab\"/></a>"
      ]
    },
    {
      "cell_type": "markdown",
      "source": [
        "# 퍼셉트론"
      ],
      "metadata": {
        "id": "z5vt-PzdDuRQ"
      }
    },
    {
      "cell_type": "markdown",
      "source": [
        "## 퍼셉트론 구현하기"
      ],
      "metadata": {
        "id": "OYAsZCKxEFLK"
      }
    },
    {
      "cell_type": "code",
      "execution_count": 9,
      "metadata": {
        "colab": {
          "base_uri": "https://localhost:8080/"
        },
        "id": "TaZAvlNjCDH3",
        "outputId": "7f1ac9ab-5297-4e44-976c-31434eb665a6"
      },
      "outputs": [
        {
          "output_type": "stream",
          "name": "stdout",
          "text": [
            "AND(0,0) =  0\n",
            "AND(0,1) =  0\n",
            "AND(1,0) =  0\n",
            "AND(1,1) =  1\n",
            "NAND(0,0) =  1\n",
            "NAND(0,1) =  1\n",
            "NAND(1,0) =  1\n",
            "NAND(1,1) =  0\n"
          ]
        }
      ],
      "source": [
        "# 가장 간단한 구현부터!\n",
        "def AND(x1, x2):\n",
        "    w1, w2, theta = 0.5, 0.5, 0.7\n",
        "    tmp = x1*w1 + x2*w2\n",
        "    if tmp <= theta:\n",
        "        return 0\n",
        "    elif tmp > theta:\n",
        "        return 1\n",
        "\n",
        "# 직접 사용해보기!\n",
        "print('AND(0,0) = ', AND(0,0))\n",
        "print('AND(0,1) = ', AND(0,1))\n",
        "print('AND(1,0) = ', AND(1,0))\n",
        "print('AND(1,1) = ', AND(1,1))\n",
        "\n",
        "# 그 다음은 NAND게이트\n",
        "def NAND(x1, x2):\n",
        "    w1, w2, theta = -0.5, -0.5, -0.7\n",
        "    tmp = x1*w1 + x2*w2\n",
        "    if tmp <= theta:\n",
        "        return 0\n",
        "    elif tmp > theta:\n",
        "        return 1\n",
        "    \n",
        "print('NAND(0,0) = ', NAND(0,0))\n",
        "print('NAND(0,1) = ', NAND(0,1))\n",
        "print('NAND(1,0) = ', NAND(1,0))\n",
        "print('NAND(1,1) = ', NAND(1,1))"
      ]
    },
    {
      "cell_type": "code",
      "source": [
        "import numpy as np\n",
        "# 이번엔 numpy 이용해서 해보기\n",
        "def AND(x1, x2):\n",
        "    x = np.array([x1, x2])\n",
        "    w = np.array([0.5, 0.5])\n",
        "    b = -0.7\n",
        "    tmp = np.sum(w*x) + b\n",
        "    if tmp <= 0:\n",
        "        return 0\n",
        "    else:\n",
        "        return 1\n",
        "\n",
        "print(AND(0,0))\n",
        "print(AND(0,1))\n",
        "print(AND(1,0))\n",
        "print(AND(1,1))\n",
        "print()\n",
        "\n",
        "# NAND gate_version numpy\n",
        "def NAND(x1, x2):\n",
        "    x = np.array([x1, x2])\n",
        "    w = np.array([-0.5, -0.5])\n",
        "    b = 0.7\n",
        "    tmp = np.sum(w*x) + b\n",
        "    if tmp <= 0:\n",
        "        return 0\n",
        "    else:\n",
        "        return 1\n",
        "\n",
        "print(NAND(0,0))\n",
        "print(NAND(0,1))\n",
        "print(NAND(1,0))\n",
        "print(NAND(1,1))\n",
        "print()\n",
        "\n",
        "# OR gate\n",
        "def OR(x1, x2):\n",
        "    x = np.array([x1, x2])\n",
        "    w = np.array([0.5, 0.5])\n",
        "    b = -0.2\n",
        "    tmp = np.sum(w*x) + b\n",
        "    if tmp<=0:\n",
        "        return 0\n",
        "    else:\n",
        "        return 1\n",
        "\n",
        "print(OR(0,0))\n",
        "print(OR(0,1))\n",
        "print(OR(1,0))\n",
        "print(OR(1,1))"
      ],
      "metadata": {
        "colab": {
          "base_uri": "https://localhost:8080/"
        },
        "id": "uUOdnqtsEto9",
        "outputId": "50897bdd-9064-45dc-f4af-a7a814a1f6e6"
      },
      "execution_count": 14,
      "outputs": [
        {
          "output_type": "stream",
          "name": "stdout",
          "text": [
            "0\n",
            "0\n",
            "0\n",
            "1\n",
            "\n",
            "1\n",
            "1\n",
            "1\n",
            "0\n",
            "0\n",
            "1\n",
            "1\n",
            "1\n"
          ]
        }
      ]
    },
    {
      "cell_type": "code",
      "source": [
        "# 함께 써서, XOR을 만들자\n",
        "def XOR(x1, x2):\n",
        "    s1 = NAND(x1, x2)\n",
        "    s2 = OR(x1, x2)\n",
        "    y = AND(s1, s2)\n",
        "    return y\n",
        "\n",
        "print(XOR(0,0))\n",
        "print(XOR(0,1))\n",
        "print(XOR(1,0))\n",
        "print(XOR(1,1))"
      ],
      "metadata": {
        "colab": {
          "base_uri": "https://localhost:8080/"
        },
        "id": "ijsk1JyEIBK4",
        "outputId": "da0e0b18-19c0-4374-f853-775b51d5fc4c"
      },
      "execution_count": 16,
      "outputs": [
        {
          "output_type": "stream",
          "name": "stdout",
          "text": [
            "0\n",
            "1\n",
            "1\n",
            "0\n"
          ]
        }
      ]
    }
  ]
}