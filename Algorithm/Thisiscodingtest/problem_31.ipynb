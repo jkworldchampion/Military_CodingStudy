{
  "nbformat": 4,
  "nbformat_minor": 0,
  "metadata": {
    "colab": {
      "name": "Problem_31.ipynb",
      "provenance": [],
      "collapsed_sections": [],
      "authorship_tag": "ABX9TyNYD8IOK6jTx7GDHImOeF7u",
      "include_colab_link": true
    },
    "kernelspec": {
      "name": "python3",
      "display_name": "Python 3"
    },
    "language_info": {
      "name": "python"
    }
  },
  "cells": [
    {
      "cell_type": "markdown",
      "metadata": {
        "id": "view-in-github",
        "colab_type": "text"
      },
      "source": [
        "<a href=\"https://colab.research.google.com/github/jkworldchampion/Military_CodingStudy/blob/main/Algorithm/Thisiscodingtest/Problem_31.ipynb\" target=\"_parent\"><img src=\"https://colab.research.google.com/assets/colab-badge.svg\" alt=\"Open In Colab\"/></a>"
      ]
    },
    {
      "cell_type": "markdown",
      "source": [
        "# 금광"
      ],
      "metadata": {
        "id": "D_cpNnRJhhB4"
      }
    },
    {
      "cell_type": "code",
      "execution_count": null,
      "metadata": {
        "colab": {
          "base_uri": "https://localhost:8080/"
        },
        "id": "VVpabaU0hZTU",
        "outputId": "a8125fcd-10f6-4a5c-cac9-7bf5db10fa8d"
      },
      "outputs": [
        {
          "output_type": "stream",
          "name": "stdout",
          "text": [
            "2\n",
            "3 4\n",
            "1 3 3 2 2 1 4 1 0 6 4 7\n",
            "19\n",
            "4 4\n",
            "1 3 1 5 2 2 4 1 5 0 2 3 0 6 1 2\n",
            "16\n"
          ]
        }
      ],
      "source": [
        "def solution():\n",
        "    global n, m, world, dynamic\n",
        "\n",
        "    n, m = map(int, input().split())\n",
        "    data = list(map(int, input().split()))\n",
        "    world = [[0]*m for _ in range(n)]\n",
        "    for i in range(n):\n",
        "        world[i] = data[i*m:(i*m)+4]\n",
        "\n",
        "    dynamic = [[0]*m for _ in range(n)]\n",
        "    for i in range(n):\n",
        "        dynamic[i][m-1] = world[i][m-1]\n",
        "\n",
        "    for i in range(m-1, -1, -1):\n",
        "        for j in range(n-1, -1, -1):\n",
        "            dynamic[j][i] = what_max(j, i)\n",
        "\n",
        "    print(max(max(dynamic)))\n",
        "\n",
        "def what_max(x, y):\n",
        "    dn = [-1, 0, 1]\n",
        "    result = [world[x][y]]\n",
        "    for i in range(3):\n",
        "        nm = y+1\n",
        "        nn = x+dn[i]\n",
        "        if ((nm>=0)&(m>nm)&(nn>=0)&(n>nn)):\n",
        "            result.append(world[x][y] + dynamic[nn][nm])\n",
        "    return max(result)\n",
        "\n",
        "test = int(input())\n",
        "for _ in range(test):\n",
        "    solution()\n",
        "\n",
        "\n",
        "\n",
        "\n",
        "\n",
        "\n"
      ]
    },
    {
      "cell_type": "code",
      "source": [
        ""
      ],
      "metadata": {
        "id": "1O_Ypf4AjLqm"
      },
      "execution_count": null,
      "outputs": []
    }
  ]
}
