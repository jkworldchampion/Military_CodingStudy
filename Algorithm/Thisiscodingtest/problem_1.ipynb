{
  "nbformat": 4,
  "nbformat_minor": 0,
  "metadata": {
    "colab": {
      "name": "problem_1.ipynb",
      "provenance": [],
      "authorship_tag": "ABX9TyP9rxnz1U3QCbLKKfMOKuk/",
      "include_colab_link": true
    },
    "kernelspec": {
      "name": "python3",
      "display_name": "Python 3"
    },
    "language_info": {
      "name": "python"
    }
  },
  "cells": [
    {
      "cell_type": "markdown",
      "metadata": {
        "id": "view-in-github",
        "colab_type": "text"
      },
      "source": [
        "<a href=\"https://colab.research.google.com/github/jkworldchampion/Military_CodingStudy/blob/main/Algorithm/Thisiscodingtest/problem_1.ipynb\" target=\"_parent\"><img src=\"https://colab.research.google.com/assets/colab-badge.svg\" alt=\"Open In Colab\"/></a>"
      ]
    },
    {
      "cell_type": "markdown",
      "source": [
        "# 모험가 길드\n",
        "모험을 떠날 수 있는 그룹 수의 최댓값을 구하여라"
      ],
      "metadata": {
        "id": "0tuI3IqofKyT"
      }
    },
    {
      "cell_type": "code",
      "execution_count": 7,
      "metadata": {
        "colab": {
          "base_uri": "https://localhost:8080/"
        },
        "id": "l2TgohIte-0h",
        "outputId": "33e3b6e2-ecc8-4156-e3a4-d4e256d56831"
      },
      "outputs": [
        {
          "output_type": "stream",
          "name": "stdout",
          "text": [
            "3 2 2 2 1\n",
            "2\n"
          ]
        }
      ],
      "source": [
        "# 입력 값 받기\n",
        "adventurer = list(map(int, input().split()))\n",
        "count = 0\n",
        "\n",
        "# 돌아가며, 큰 수부터 그룹 형성하기\n",
        "adventurer.sort()\n",
        "for i in adventurer:\n",
        "    if len(adventurer)==0:\n",
        "        break\n",
        "    for j in range(i):\n",
        "        adventurer.pop(0)\n",
        "    count += 1\n",
        "print(count)"
      ]
    }
  ]
}