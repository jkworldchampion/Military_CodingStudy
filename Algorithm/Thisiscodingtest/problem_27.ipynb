{
  "nbformat": 4,
  "nbformat_minor": 0,
  "metadata": {
    "colab": {
      "name": "Thisiscodingtest_problem_27.ipynb",
      "provenance": [],
      "collapsed_sections": [],
      "authorship_tag": "ABX9TyNLo51LWGey+wjjfD+h662f",
      "include_colab_link": true
    },
    "kernelspec": {
      "name": "python3",
      "display_name": "Python 3"
    },
    "language_info": {
      "name": "python"
    }
  },
  "cells": [
    {
      "cell_type": "markdown",
      "metadata": {
        "id": "view-in-github",
        "colab_type": "text"
      },
      "source": [
        "<a href=\"https://colab.research.google.com/github/jkworldchampion/Military_CodingStudy/blob/main/Algorithm/Thisiscodingtest/problem_27.ipynb\" target=\"_parent\"><img src=\"https://colab.research.google.com/assets/colab-badge.svg\" alt=\"Open In Colab\"/></a>"
      ]
    },
    {
      "cell_type": "markdown",
      "source": [
        "# 정렬된 배열에서 특정 수의 개수 구하기 (from Zoho인터뷰)"
      ],
      "metadata": {
        "id": "01vSQNbmuAOB"
      }
    },
    {
      "cell_type": "markdown",
      "source": [
        "## 단순하게 구현해보기 , 시간 복잡도 O(n)"
      ],
      "metadata": {
        "id": "qxsg0O49vpQz"
      }
    },
    {
      "cell_type": "code",
      "source": [
        "n, x = map(int, input().split())\n",
        "data = list(map(int, input().split()))"
      ],
      "metadata": {
        "colab": {
          "base_uri": "https://localhost:8080/"
        },
        "id": "u4-7zEkHuINR",
        "outputId": "095644a6-df81-4c7c-af09-826f21106afc"
      },
      "execution_count": 30,
      "outputs": [
        {
          "name": "stdout",
          "output_type": "stream",
          "text": [
            "7 2\n",
            "1 1 2 2 2 2 3\n"
          ]
        }
      ]
    },
    {
      "cell_type": "code",
      "source": [
        "idx = 0\n",
        "count = 0\n",
        "target = data[idx]\n",
        "for _ in range(n):\n",
        "  if target == x:\n",
        "    count += 1\n",
        "  if target > x:\n",
        "    break\n",
        "  target = data[idx]\n",
        "  idx += 1\n",
        "\n",
        "if count == 0:\n",
        "  print(-1)\n",
        "else:\n",
        "  print(count)"
      ],
      "metadata": {
        "colab": {
          "base_uri": "https://localhost:8080/"
        },
        "id": "oW4hiqv3xoX-",
        "outputId": "4a1e6423-7e9f-48d4-a22b-c4e4f55ee341"
      },
      "execution_count": 31,
      "outputs": [
        {
          "output_type": "stream",
          "name": "stdout",
          "text": [
            "4\n"
          ]
        }
      ]
    },
    {
      "cell_type": "markdown",
      "source": [
        "## 이진 탐색으로 시간 복잡도 O(log n)달성하기"
      ],
      "metadata": {
        "id": "KVmxxXnhvebb"
      }
    },
    {
      "cell_type": "code",
      "source": [
        "def b_s(array, target, start, end):\n",
        "  while start <= end:\n",
        "    mid = (start+end)//2\n",
        "    if array[mid] == target:\n",
        "      return mid\n",
        "    elif array[mid] > target:\n",
        "      end = mid-1\n",
        "    else:\n",
        "      start = mid+1\n",
        "\n",
        "  return None\n",
        "\n",
        "answer = b_s(data, x, 0, (n-1))\n",
        "if answer == None:\n",
        "  print(-1)\n",
        "else:\n",
        "  count = 1\n",
        "  while True:            # 살짝 찜찜..\n",
        "    if data[answer] == x:\n",
        "      count += 1\n",
        "      answer += 1\n",
        "    else:\n",
        "      break\n",
        "  print(count)"
      ],
      "metadata": {
        "colab": {
          "base_uri": "https://localhost:8080/"
        },
        "id": "XdXPk_sNunHG",
        "outputId": "4b52e8b8-944f-44d8-ed80-8975471fc7ac"
      },
      "execution_count": 32,
      "outputs": [
        {
          "output_type": "stream",
          "name": "stdout",
          "text": [
            "4\n"
          ]
        }
      ]
    },
    {
      "cell_type": "markdown",
      "source": [
        "## 가장 쉽게하는 법 bisect"
      ],
      "metadata": {
        "id": "bGM3SK_k2JbP"
      }
    },
    {
      "cell_type": "code",
      "source": [
        "from bisect import bisect_left, bisect_right\n",
        "\n",
        "count = bisect_right(data, x) - bisect_left(data, x)\n",
        "if count == 0:\n",
        "    print(-1)\n",
        "else:\n",
        "    print(count)"
      ],
      "metadata": {
        "colab": {
          "base_uri": "https://localhost:8080/"
        },
        "id": "xAhLxLLD2A9h",
        "outputId": "164752e4-fdd5-49a4-9e22-ea6725aaa40a"
      },
      "execution_count": 34,
      "outputs": [
        {
          "output_type": "stream",
          "name": "stdout",
          "text": [
            "4\n"
          ]
        }
      ]
    }
  ]
}