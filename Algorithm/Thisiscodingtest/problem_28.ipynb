{
  "nbformat": 4,
  "nbformat_minor": 0,
  "metadata": {
    "colab": {
      "name": "Thisiscodingtest_problem_28.ipynb",
      "provenance": [],
      "authorship_tag": "ABX9TyMx3pN8jcb7ylEXgT3XSN9E",
      "include_colab_link": true
    },
    "kernelspec": {
      "name": "python3",
      "display_name": "Python 3"
    },
    "language_info": {
      "name": "python"
    }
  },
  "cells": [
    {
      "cell_type": "markdown",
      "metadata": {
        "id": "view-in-github",
        "colab_type": "text"
      },
      "source": [
        "<a href=\"https://colab.research.google.com/github/jkworldchampion/Military_CodingStudy/blob/main/Algorithm/Thisiscodingtest/problem_28.ipynb\" target=\"_parent\"><img src=\"https://colab.research.google.com/assets/colab-badge.svg\" alt=\"Open In Colab\"/></a>"
      ]
    },
    {
      "cell_type": "markdown",
      "source": [
        "# A 28 고정점 찾기"
      ],
      "metadata": {
        "id": "ENeZb4NwXK6F"
      }
    },
    {
      "cell_type": "code",
      "source": [
        "# 입력부\n",
        "n = int(input())\n",
        "array = list(map(int, input().split()))"
      ],
      "metadata": {
        "colab": {
          "base_uri": "https://localhost:8080/"
        },
        "id": "2-RGuWyoZwHZ",
        "outputId": "6d884f3c-eda2-4265-8844-0766d718a650"
      },
      "execution_count": 20,
      "outputs": [
        {
          "name": "stdout",
          "output_type": "stream",
          "text": [
            "7\n",
            "-15 -4 3 8 9 13 15\n"
          ]
        }
      ]
    },
    {
      "cell_type": "code",
      "execution_count": 21,
      "metadata": {
        "colab": {
          "base_uri": "https://localhost:8080/"
        },
        "id": "ZPqk8wTAWH20",
        "outputId": "16737e7d-4bc7-4da1-e88c-dba7e7c254b6"
      },
      "outputs": [
        {
          "output_type": "stream",
          "name": "stdout",
          "text": [
            "-1\n"
          ]
        }
      ],
      "source": [
        "# 이진 탐색 소스코드 구현(while문 사용)\n",
        "def b_s(array, start, end):\n",
        "    while start <= end:\n",
        "        mid = (start+end)//2\n",
        "        if array[mid] == mid:\n",
        "            return mid\n",
        "        elif array[mid] > mid:\n",
        "            end = mid - 1\n",
        "        else:\n",
        "            start = mid + 1\n",
        "    return None\n",
        "\n",
        "index = b_s(array, 0, n-1)\n",
        "if index == None:\n",
        "    print(-1)\n",
        "else:\n",
        "    print(index)"
      ]
    }
  ]
}